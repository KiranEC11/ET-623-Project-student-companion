{
  "cells": [
    {
      "cell_type": "code",
      "execution_count": 66,
      "id": "7bb9ebac",
      "metadata": {
        "id": "7bb9ebac"
      },
      "outputs": [],
      "source": [
        "import pandas as pd"
      ]
    },
    {
      "cell_type": "code",
      "execution_count": 214,
      "id": "00de6ade",
      "metadata": {
        "colab": {
          "base_uri": "https://localhost:8080/",
          "height": 591
        },
        "id": "00de6ade",
        "outputId": "98dab394-8f35-438b-b040-1182277f0256"
      },
      "outputs": [
        {
          "data": {
            "text/html": [
              "<div>\n",
              "<style scoped>\n",
              "    .dataframe tbody tr th:only-of-type {\n",
              "        vertical-align: middle;\n",
              "    }\n",
              "\n",
              "    .dataframe tbody tr th {\n",
              "        vertical-align: top;\n",
              "    }\n",
              "\n",
              "    .dataframe thead th {\n",
              "        text-align: right;\n",
              "    }\n",
              "</style>\n",
              "<table border=\"1\" class=\"dataframe\">\n",
              "  <thead>\n",
              "    <tr style=\"text-align: right;\">\n",
              "      <th></th>\n",
              "      <th>Title</th>\n",
              "      <th>Link</th>\n",
              "      <th>Organization</th>\n",
              "      <th>Instructor</th>\n",
              "      <th>Skills</th>\n",
              "      <th>Ratings</th>\n",
              "      <th>Review counts</th>\n",
              "      <th>Cost</th>\n",
              "      <th>Enrolled</th>\n",
              "      <th>Level</th>\n",
              "      <th>Cerification</th>\n",
              "      <th>Completion Time</th>\n",
              "      <th>Unnamed: 12</th>\n",
              "      <th>Decription</th>\n",
              "    </tr>\n",
              "  </thead>\n",
              "  <tbody>\n",
              "    <tr>\n",
              "      <th>0</th>\n",
              "      <td>Google Data Analytics</td>\n",
              "      <td>https://www.coursera.org/professional-certific...</td>\n",
              "      <td>Google</td>\n",
              "      <td>Google Career Certificates</td>\n",
              "      <td>Data Analysis, R Programming, SQL, Business C...</td>\n",
              "      <td>4.8</td>\n",
              "      <td>133470.0</td>\n",
              "      <td>Free</td>\n",
              "      <td>2068512</td>\n",
              "      <td>Beginner</td>\n",
              "      <td>Professional Certificate</td>\n",
              "      <td>3 - 6 Months</td>\n",
              "      <td>NaN</td>\n",
              "      <td>Gain an immersive understanding of the practic...</td>\n",
              "    </tr>\n",
              "    <tr>\n",
              "      <th>1</th>\n",
              "      <td>Google Cybersecurity</td>\n",
              "      <td>https://www.coursera.org/professional-certific...</td>\n",
              "      <td>Google</td>\n",
              "      <td>Google Career Certificates</td>\n",
              "      <td>Network Security, Python Programming, Linux, ...</td>\n",
              "      <td>4.8</td>\n",
              "      <td>21565.0</td>\n",
              "      <td>Free</td>\n",
              "      <td>481195</td>\n",
              "      <td>Beginner</td>\n",
              "      <td>Professional Certificate</td>\n",
              "      <td>3 - 6 Months</td>\n",
              "      <td>NaN</td>\n",
              "      <td>Understand the importance of cybersecurity pra...</td>\n",
              "    </tr>\n",
              "    <tr>\n",
              "      <th>2</th>\n",
              "      <td>Google Project Management:</td>\n",
              "      <td>https://www.coursera.org/professional-certific...</td>\n",
              "      <td>Google</td>\n",
              "      <td>Google Career Certificates</td>\n",
              "      <td>Project Management, Strategy and Operations, ...</td>\n",
              "      <td>4.8</td>\n",
              "      <td>97832.0</td>\n",
              "      <td>Free</td>\n",
              "      <td>1491006</td>\n",
              "      <td>Beginner</td>\n",
              "      <td>Professional Certificate</td>\n",
              "      <td>3 - 6 Months</td>\n",
              "      <td>NaN</td>\n",
              "      <td>Gain an immersive understanding of the practic...</td>\n",
              "    </tr>\n",
              "    <tr>\n",
              "      <th>3</th>\n",
              "      <td>IBM Data Science</td>\n",
              "      <td>https://www.coursera.org/professional-certific...</td>\n",
              "      <td>IBM</td>\n",
              "      <td>Dr. Pooja</td>\n",
              "      <td>Python Programming, Data Science, Machine Lea...</td>\n",
              "      <td>4.6</td>\n",
              "      <td>69542.0</td>\n",
              "      <td>Free</td>\n",
              "      <td>291876</td>\n",
              "      <td>Beginner</td>\n",
              "      <td>Professional Certificate</td>\n",
              "      <td>3 - 6 Months</td>\n",
              "      <td>NaN</td>\n",
              "      <td>Master the most up-to-date practical skills an...</td>\n",
              "    </tr>\n",
              "    <tr>\n",
              "      <th>4</th>\n",
              "      <td>Google Digital Marketing &amp; E-commerce</td>\n",
              "      <td>https://www.coursera.org/professional-certific...</td>\n",
              "      <td>Google</td>\n",
              "      <td>Google Career Certificates</td>\n",
              "      <td>Digital Marketing, Marketing, Marketing Manag...</td>\n",
              "      <td>4.8</td>\n",
              "      <td>22133.0</td>\n",
              "      <td>Free</td>\n",
              "      <td>597266</td>\n",
              "      <td>Beginner</td>\n",
              "      <td>Professional Certificate</td>\n",
              "      <td>3 - 6 Months</td>\n",
              "      <td>NaN</td>\n",
              "      <td>Learn the fundamentals of digital marketing an...</td>\n",
              "    </tr>\n",
              "  </tbody>\n",
              "</table>\n",
              "</div>"
            ],
            "text/plain": [
              "                                   Title  \\\n",
              "0                  Google Data Analytics   \n",
              "1                   Google Cybersecurity   \n",
              "2             Google Project Management:   \n",
              "3                       IBM Data Science   \n",
              "4  Google Digital Marketing & E-commerce   \n",
              "\n",
              "                                                Link Organization  \\\n",
              "0  https://www.coursera.org/professional-certific...       Google   \n",
              "1  https://www.coursera.org/professional-certific...       Google   \n",
              "2  https://www.coursera.org/professional-certific...       Google   \n",
              "3  https://www.coursera.org/professional-certific...          IBM   \n",
              "4  https://www.coursera.org/professional-certific...       Google   \n",
              "\n",
              "                   Instructor  \\\n",
              "0  Google Career Certificates   \n",
              "1  Google Career Certificates   \n",
              "2  Google Career Certificates   \n",
              "3                   Dr. Pooja   \n",
              "4  Google Career Certificates   \n",
              "\n",
              "                                              Skills  Ratings  Review counts  \\\n",
              "0   Data Analysis, R Programming, SQL, Business C...      4.8       133470.0   \n",
              "1   Network Security, Python Programming, Linux, ...      4.8        21565.0   \n",
              "2   Project Management, Strategy and Operations, ...      4.8        97832.0   \n",
              "3   Python Programming, Data Science, Machine Lea...      4.6        69542.0   \n",
              "4   Digital Marketing, Marketing, Marketing Manag...      4.8        22133.0   \n",
              "\n",
              "   Cost  Enrolled     Level              Cerification Completion Time  \\\n",
              "0  Free   2068512  Beginner  Professional Certificate    3 - 6 Months   \n",
              "1  Free    481195  Beginner  Professional Certificate    3 - 6 Months   \n",
              "2  Free   1491006  Beginner  Professional Certificate    3 - 6 Months   \n",
              "3  Free    291876  Beginner  Professional Certificate    3 - 6 Months   \n",
              "4  Free    597266  Beginner  Professional Certificate    3 - 6 Months   \n",
              "\n",
              "   Unnamed: 12                                         Decription  \n",
              "0          NaN  Gain an immersive understanding of the practic...  \n",
              "1          NaN  Understand the importance of cybersecurity pra...  \n",
              "2          NaN  Gain an immersive understanding of the practic...  \n",
              "3          NaN  Master the most up-to-date practical skills an...  \n",
              "4          NaN  Learn the fundamentals of digital marketing an...  "
            ]
          },
          "execution_count": 214,
          "metadata": {},
          "output_type": "execute_result"
        }
      ],
      "source": [
        "df  = pd.read_csv(\"coursera_vishal.csv\")\n",
        "df.head()"
      ]
    },
    {
      "cell_type": "code",
      "execution_count": 215,
      "id": "c2405dfa",
      "metadata": {
        "colab": {
          "base_uri": "https://localhost:8080/"
        },
        "id": "c2405dfa",
        "outputId": "99af4d64-86b9-4589-f1fd-1d3e75f3cfdb"
      },
      "outputs": [
        {
          "data": {
            "text/plain": [
              "Index(['Title', 'Link', 'Organization', 'Instructor', 'Skills', 'Ratings',\n",
              "       'Review counts', 'Cost', 'Enrolled', 'Level', 'Cerification',\n",
              "       'Completion Time', 'Unnamed: 12', 'Decription'],\n",
              "      dtype='object')"
            ]
          },
          "execution_count": 215,
          "metadata": {},
          "output_type": "execute_result"
        }
      ],
      "source": [
        "df.columns"
      ]
    },
    {
      "cell_type": "code",
      "execution_count": 216,
      "id": "TBZuKTgYQ-J0",
      "metadata": {
        "colab": {
          "base_uri": "https://localhost:8080/"
        },
        "id": "TBZuKTgYQ-J0",
        "outputId": "5ed36b89-e168-45d6-e57b-c375f6b8823e"
      },
      "outputs": [
        {
          "data": {
            "text/plain": [
              "(996, 14)"
            ]
          },
          "execution_count": 216,
          "metadata": {},
          "output_type": "execute_result"
        }
      ],
      "source": [
        "df.shape"
      ]
    },
    {
      "cell_type": "code",
      "execution_count": 217,
      "id": "VL4DpcQqQtYT",
      "metadata": {
        "id": "VL4DpcQqQtYT"
      },
      "outputs": [],
      "source": [
        "df = df.drop(columns = ['Unnamed: 12'])"
      ]
    },
    {
      "cell_type": "code",
      "execution_count": 218,
      "id": "Cju7SRWSQlgb",
      "metadata": {
        "colab": {
          "base_uri": "https://localhost:8080/"
        },
        "id": "Cju7SRWSQlgb",
        "outputId": "2e6be028-752a-44b3-93d5-df420249d505"
      },
      "outputs": [
        {
          "data": {
            "text/plain": [
              "(996, 13)"
            ]
          },
          "execution_count": 218,
          "metadata": {},
          "output_type": "execute_result"
        }
      ],
      "source": [
        "df.shape"
      ]
    },
    {
      "cell_type": "code",
      "execution_count": 219,
      "id": "RU_HWwFWK0tF",
      "metadata": {
        "id": "RU_HWwFWK0tF"
      },
      "outputs": [
        {
          "name": "stderr",
          "output_type": "stream",
          "text": [
            "C:\\Users\\Admin\\AppData\\Local\\Temp\\ipykernel_12132\\1981013056.py:2: FutureWarning: A value is trying to be set on a copy of a DataFrame or Series through chained assignment using an inplace method.\n",
            "The behavior will change in pandas 3.0. This inplace method will never work because the intermediate object on which we are setting values always behaves as a copy.\n",
            "\n",
            "For example, when doing 'df[col].method(value, inplace=True)', try using 'df.method({col: value}, inplace=True)' or df[col] = df[col].method(value) instead, to perform the operation inplace on the original object.\n",
            "\n",
            "\n",
            "  df['Ratings'].fillna(average_rating, inplace=True)\n"
          ]
        }
      ],
      "source": [
        "average_rating = round(df['Ratings'].mean())\n",
        "df['Ratings'].fillna(average_rating, inplace=True)"
      ]
    },
    {
      "cell_type": "code",
      "execution_count": 220,
      "id": "c21c86c2",
      "metadata": {},
      "outputs": [
        {
          "data": {
            "text/plain": [
              "5"
            ]
          },
          "execution_count": 220,
          "metadata": {},
          "output_type": "execute_result"
        }
      ],
      "source": [
        "average_rating"
      ]
    },
    {
      "cell_type": "code",
      "execution_count": 221,
      "id": "dn3lvkouMktA",
      "metadata": {
        "id": "dn3lvkouMktA"
      },
      "outputs": [
        {
          "name": "stderr",
          "output_type": "stream",
          "text": [
            "C:\\Users\\Admin\\AppData\\Local\\Temp\\ipykernel_12132\\2277511306.py:1: FutureWarning: A value is trying to be set on a copy of a DataFrame or Series through chained assignment using an inplace method.\n",
            "The behavior will change in pandas 3.0. This inplace method will never work because the intermediate object on which we are setting values always behaves as a copy.\n",
            "\n",
            "For example, when doing 'df[col].method(value, inplace=True)', try using 'df.method({col: value}, inplace=True)' or df[col] = df[col].method(value) instead, to perform the operation inplace on the original object.\n",
            "\n",
            "\n",
            "  df['Review counts'].fillna(70, inplace=True)\n"
          ]
        }
      ],
      "source": [
        "df['Review counts'].fillna(70, inplace=True)"
      ]
    },
    {
      "cell_type": "code",
      "execution_count": 222,
      "id": "knqEJrqQLAol",
      "metadata": {
        "colab": {
          "base_uri": "https://localhost:8080/"
        },
        "id": "knqEJrqQLAol",
        "outputId": "fdd8c23a-7ec2-4fed-e387-7b697f1cfe82"
      },
      "outputs": [
        {
          "data": {
            "text/plain": [
              "Title                0\n",
              "Link                 0\n",
              "Organization         0\n",
              "Instructor         244\n",
              "Skills             111\n",
              "Ratings              0\n",
              "Review counts        0\n",
              "Cost                 0\n",
              "Enrolled             0\n",
              "Level                0\n",
              "Cerification         0\n",
              "Completion Time      0\n",
              "Decription          91\n",
              "dtype: int64"
            ]
          },
          "execution_count": 222,
          "metadata": {},
          "output_type": "execute_result"
        }
      ],
      "source": [
        "df.isna().sum()"
      ]
    },
    {
      "cell_type": "code",
      "execution_count": 223,
      "id": "DqjZqYx_FYkM",
      "metadata": {
        "colab": {
          "base_uri": "https://localhost:8080/",
          "height": 695
        },
        "id": "DqjZqYx_FYkM",
        "outputId": "a0711c61-826a-43b5-c303-d6c1662a03d0"
      },
      "outputs": [
        {
          "data": {
            "text/html": [
              "<div>\n",
              "<style scoped>\n",
              "    .dataframe tbody tr th:only-of-type {\n",
              "        vertical-align: middle;\n",
              "    }\n",
              "\n",
              "    .dataframe tbody tr th {\n",
              "        vertical-align: top;\n",
              "    }\n",
              "\n",
              "    .dataframe thead th {\n",
              "        text-align: right;\n",
              "    }\n",
              "</style>\n",
              "<table border=\"1\" class=\"dataframe\">\n",
              "  <thead>\n",
              "    <tr style=\"text-align: right;\">\n",
              "      <th></th>\n",
              "      <th>title</th>\n",
              "      <th>summary</th>\n",
              "      <th>n_enrolled</th>\n",
              "      <th>course_type</th>\n",
              "      <th>institution</th>\n",
              "      <th>instructors</th>\n",
              "      <th>Level</th>\n",
              "      <th>subject</th>\n",
              "      <th>language</th>\n",
              "      <th>subtitles</th>\n",
              "      <th>course_effort</th>\n",
              "      <th>course_length</th>\n",
              "      <th>price</th>\n",
              "      <th>course_description</th>\n",
              "      <th>course_syllabus</th>\n",
              "      <th>course_url</th>\n",
              "      <th>skills</th>\n",
              "      <th>Number of Reviews</th>\n",
              "      <th>Rating</th>\n",
              "    </tr>\n",
              "  </thead>\n",
              "  <tbody>\n",
              "    <tr>\n",
              "      <th>0</th>\n",
              "      <td>How to Learn Online</td>\n",
              "      <td>Learn essential strategies for successful onli...</td>\n",
              "      <td>1,24,980</td>\n",
              "      <td>Self-paced on your time</td>\n",
              "      <td>edX</td>\n",
              "      <td>Nina Huntemann-Robyn Belair-Ben Piscopo</td>\n",
              "      <td>Introductory</td>\n",
              "      <td>Education &amp; Teacher Training</td>\n",
              "      <td>English</td>\n",
              "      <td>English</td>\n",
              "      <td>2–3 hours per week</td>\n",
              "      <td>2 Weeks</td>\n",
              "      <td>FREE-Add a Verified Certificate for $49 USD</td>\n",
              "      <td>Designed for those who are new to elearning, t...</td>\n",
              "      <td>Welcome - We start with opportunities to meet ...</td>\n",
              "      <td>https://www.edx.org/course/how-to-learn-online</td>\n",
              "      <td>Learning Design</td>\n",
              "      <td>29</td>\n",
              "      <td>4.4</td>\n",
              "    </tr>\n",
              "    <tr>\n",
              "      <th>1</th>\n",
              "      <td>Programming for Everybody (Getting Started wit...</td>\n",
              "      <td>This course is a \"no prerequisite\" introductio...</td>\n",
              "      <td>2,93,864</td>\n",
              "      <td>Self-paced on your time</td>\n",
              "      <td>The University of Michigan</td>\n",
              "      <td>Charles Severance</td>\n",
              "      <td>Introductory</td>\n",
              "      <td>Computer Science</td>\n",
              "      <td>English</td>\n",
              "      <td>English</td>\n",
              "      <td>2–4 hours per week</td>\n",
              "      <td>7 Weeks</td>\n",
              "      <td>FREE-Add a Verified Certificate for $49 USD</td>\n",
              "      <td>This course aims to teach everyone the basics ...</td>\n",
              "      <td>NaN</td>\n",
              "      <td>https://www.edx.org/course/programming-for-eve...</td>\n",
              "      <td>Python (Programming Language), Web Browsers</td>\n",
              "      <td>101</td>\n",
              "      <td>4.7</td>\n",
              "    </tr>\n",
              "    <tr>\n",
              "      <th>2</th>\n",
              "      <td>CS50's Introduction to Computer Science</td>\n",
              "      <td>An introduction to the intellectual enterprise...</td>\n",
              "      <td>24,42,271</td>\n",
              "      <td>Self-paced on your time</td>\n",
              "      <td>Harvard University</td>\n",
              "      <td>David J. Malan-Doug Lloyd-Brian Yu</td>\n",
              "      <td>Introductory</td>\n",
              "      <td>Computer Science</td>\n",
              "      <td>English</td>\n",
              "      <td>English</td>\n",
              "      <td>6–18 hours per week</td>\n",
              "      <td>12 Weeks</td>\n",
              "      <td>FREE-Add a Verified Certificate for $90 USD</td>\n",
              "      <td>This is CS50x , Harvard University's introduct...</td>\n",
              "      <td>NaN</td>\n",
              "      <td>https://www.edx.org/course/cs50s-introduction-...</td>\n",
              "      <td>Resource Management, Security Software, Crypto...</td>\n",
              "      <td>NaN</td>\n",
              "      <td>NaN</td>\n",
              "    </tr>\n",
              "    <tr>\n",
              "      <th>3</th>\n",
              "      <td>The Analytics Edge</td>\n",
              "      <td>Through inspiring examples and stories, discov...</td>\n",
              "      <td>1,29,555</td>\n",
              "      <td>Instructor-led on a course schedule</td>\n",
              "      <td>Massachusetts Institute of Technology</td>\n",
              "      <td>Dimitris Bertsimas-Allison O'Hair-John Silberh...</td>\n",
              "      <td>Intermediate</td>\n",
              "      <td>Data Analysis &amp; Statistics</td>\n",
              "      <td>English</td>\n",
              "      <td>English</td>\n",
              "      <td>10–15 hours per week</td>\n",
              "      <td>13 Weeks</td>\n",
              "      <td>FREE-Add a Verified Certificate for $199 USD</td>\n",
              "      <td>In the last decade, the amount of data availab...</td>\n",
              "      <td>NaN</td>\n",
              "      <td>https://www.edx.org/course/the-analytics-edge</td>\n",
              "      <td>Statistical Software, Logistic Regression, Lin...</td>\n",
              "      <td>NaN</td>\n",
              "      <td>NaN</td>\n",
              "    </tr>\n",
              "    <tr>\n",
              "      <th>4</th>\n",
              "      <td>Marketing Analytics: Marketing Measurement Str...</td>\n",
              "      <td>This course is part of a MicroMasters® Program</td>\n",
              "      <td>81,140</td>\n",
              "      <td>Self-paced on your time</td>\n",
              "      <td>University of California, Berkeley</td>\n",
              "      <td>Stephan Sorger</td>\n",
              "      <td>Introductory</td>\n",
              "      <td>Computer Science</td>\n",
              "      <td>English</td>\n",
              "      <td>English</td>\n",
              "      <td>5–7 hours per week</td>\n",
              "      <td>4 Weeks</td>\n",
              "      <td>FREE-Add a Verified Certificate for $249 USD</td>\n",
              "      <td>Begin your journey in a new career in marketin...</td>\n",
              "      <td>NaN</td>\n",
              "      <td>https://www.edx.org/course/marketing-analytics...</td>\n",
              "      <td>NaN</td>\n",
              "      <td>NaN</td>\n",
              "      <td>NaN</td>\n",
              "    </tr>\n",
              "  </tbody>\n",
              "</table>\n",
              "</div>"
            ],
            "text/plain": [
              "                                               title  \\\n",
              "0                                How to Learn Online   \n",
              "1  Programming for Everybody (Getting Started wit...   \n",
              "2            CS50's Introduction to Computer Science   \n",
              "3                                 The Analytics Edge   \n",
              "4  Marketing Analytics: Marketing Measurement Str...   \n",
              "\n",
              "                                             summary n_enrolled  \\\n",
              "0  Learn essential strategies for successful onli...   1,24,980   \n",
              "1  This course is a \"no prerequisite\" introductio...   2,93,864   \n",
              "2  An introduction to the intellectual enterprise...  24,42,271   \n",
              "3  Through inspiring examples and stories, discov...   1,29,555   \n",
              "4     This course is part of a MicroMasters® Program     81,140   \n",
              "\n",
              "                           course_type                            institution  \\\n",
              "0              Self-paced on your time                                    edX   \n",
              "1              Self-paced on your time             The University of Michigan   \n",
              "2              Self-paced on your time                     Harvard University   \n",
              "3  Instructor-led on a course schedule  Massachusetts Institute of Technology   \n",
              "4              Self-paced on your time     University of California, Berkeley   \n",
              "\n",
              "                                         instructors         Level  \\\n",
              "0            Nina Huntemann-Robyn Belair-Ben Piscopo  Introductory   \n",
              "1                                  Charles Severance  Introductory   \n",
              "2                 David J. Malan-Doug Lloyd-Brian Yu  Introductory   \n",
              "3  Dimitris Bertsimas-Allison O'Hair-John Silberh...  Intermediate   \n",
              "4                                     Stephan Sorger  Introductory   \n",
              "\n",
              "                        subject language subtitles         course_effort  \\\n",
              "0  Education & Teacher Training  English   English    2–3 hours per week   \n",
              "1              Computer Science  English   English    2–4 hours per week   \n",
              "2              Computer Science  English   English   6–18 hours per week   \n",
              "3    Data Analysis & Statistics  English   English  10–15 hours per week   \n",
              "4              Computer Science  English   English    5–7 hours per week   \n",
              "\n",
              "  course_length                                         price  \\\n",
              "0       2 Weeks   FREE-Add a Verified Certificate for $49 USD   \n",
              "1       7 Weeks   FREE-Add a Verified Certificate for $49 USD   \n",
              "2      12 Weeks   FREE-Add a Verified Certificate for $90 USD   \n",
              "3      13 Weeks  FREE-Add a Verified Certificate for $199 USD   \n",
              "4       4 Weeks  FREE-Add a Verified Certificate for $249 USD   \n",
              "\n",
              "                                  course_description  \\\n",
              "0  Designed for those who are new to elearning, t...   \n",
              "1  This course aims to teach everyone the basics ...   \n",
              "2  This is CS50x , Harvard University's introduct...   \n",
              "3  In the last decade, the amount of data availab...   \n",
              "4  Begin your journey in a new career in marketin...   \n",
              "\n",
              "                                     course_syllabus  \\\n",
              "0  Welcome - We start with opportunities to meet ...   \n",
              "1                                                NaN   \n",
              "2                                                NaN   \n",
              "3                                                NaN   \n",
              "4                                                NaN   \n",
              "\n",
              "                                          course_url  \\\n",
              "0     https://www.edx.org/course/how-to-learn-online   \n",
              "1  https://www.edx.org/course/programming-for-eve...   \n",
              "2  https://www.edx.org/course/cs50s-introduction-...   \n",
              "3      https://www.edx.org/course/the-analytics-edge   \n",
              "4  https://www.edx.org/course/marketing-analytics...   \n",
              "\n",
              "                                              skills Number of Reviews  Rating  \n",
              "0                                    Learning Design                29     4.4  \n",
              "1        Python (Programming Language), Web Browsers               101     4.7  \n",
              "2  Resource Management, Security Software, Crypto...               NaN     NaN  \n",
              "3  Statistical Software, Logistic Regression, Lin...               NaN     NaN  \n",
              "4                                                NaN               NaN     NaN  "
            ]
          },
          "execution_count": 223,
          "metadata": {},
          "output_type": "execute_result"
        }
      ],
      "source": [
        "df_edx  = pd.read_csv(\"edx_courses.csv\")\n",
        "df_edx.head()"
      ]
    },
    {
      "cell_type": "code",
      "execution_count": 224,
      "id": "2cchWTJKFuJ0",
      "metadata": {
        "colab": {
          "base_uri": "https://localhost:8080/"
        },
        "id": "2cchWTJKFuJ0",
        "outputId": "9a677d00-14ea-4f00-dadb-5f42eeadb662"
      },
      "outputs": [
        {
          "data": {
            "text/plain": [
              "Index(['title', 'summary', 'n_enrolled', 'course_type', 'institution',\n",
              "       'instructors', 'Level', 'subject', 'language', 'subtitles',\n",
              "       'course_effort', 'course_length', 'price', 'course_description',\n",
              "       'course_syllabus', 'course_url', 'skills', 'Number of Reviews',\n",
              "       'Rating'],\n",
              "      dtype='object')"
            ]
          },
          "execution_count": 224,
          "metadata": {},
          "output_type": "execute_result"
        }
      ],
      "source": [
        "df_edx.columns"
      ]
    },
    {
      "cell_type": "code",
      "execution_count": 225,
      "id": "qDdEB_RlLKBG",
      "metadata": {
        "id": "qDdEB_RlLKBG"
      },
      "outputs": [
        {
          "name": "stderr",
          "output_type": "stream",
          "text": [
            "C:\\Users\\Admin\\AppData\\Local\\Temp\\ipykernel_12132\\2328846509.py:2: FutureWarning: A value is trying to be set on a copy of a DataFrame or Series through chained assignment using an inplace method.\n",
            "The behavior will change in pandas 3.0. This inplace method will never work because the intermediate object on which we are setting values always behaves as a copy.\n",
            "\n",
            "For example, when doing 'df[col].method(value, inplace=True)', try using 'df.method({col: value}, inplace=True)' or df[col] = df[col].method(value) instead, to perform the operation inplace on the original object.\n",
            "\n",
            "\n",
            "  df_edx['Rating'].fillna(average_rating, inplace=True)\n"
          ]
        }
      ],
      "source": [
        "average_rating = round(df_edx['Rating'].mean(),3)\n",
        "df_edx['Rating'].fillna(average_rating, inplace=True)"
      ]
    },
    {
      "cell_type": "code",
      "execution_count": 234,
      "id": "a7921b4e",
      "metadata": {},
      "outputs": [
        {
          "data": {
            "text/plain": [
              "4.522"
            ]
          },
          "execution_count": 234,
          "metadata": {},
          "output_type": "execute_result"
        }
      ],
      "source": [
        "average_rating"
      ]
    },
    {
      "cell_type": "code",
      "execution_count": 235,
      "id": "KLnJeQWWLlPV",
      "metadata": {
        "id": "KLnJeQWWLlPV"
      },
      "outputs": [],
      "source": [
        "df_edx['Number of Reviews'].fillna(70, inplace=True)"
      ]
    },
    {
      "cell_type": "code",
      "execution_count": 236,
      "id": "Sm0Mw0QTLKBG",
      "metadata": {
        "colab": {
          "base_uri": "https://localhost:8080/"
        },
        "id": "Sm0Mw0QTLKBG",
        "outputId": "99f3151e-8b01-4a45-9f0c-05204be53dcc"
      },
      "outputs": [
        {
          "data": {
            "text/plain": [
              "title                   0\n",
              "summary                53\n",
              "n_enrolled            120\n",
              "course_type             0\n",
              "institution             0\n",
              "instructors             3\n",
              "Level                   0\n",
              "subject                 0\n",
              "language                0\n",
              "subtitles               3\n",
              "course_effort           0\n",
              "course_length           0\n",
              "price                   0\n",
              "course_description     40\n",
              "course_syllabus       561\n",
              "course_url              0\n",
              "skills                145\n",
              "Number of Reviews       0\n",
              "Rating                  0\n",
              "dtype: int64"
            ]
          },
          "execution_count": 236,
          "metadata": {},
          "output_type": "execute_result"
        }
      ],
      "source": [
        "df_edx.isna().sum()"
      ]
    },
    {
      "cell_type": "code",
      "execution_count": 237,
      "id": "148b1849",
      "metadata": {
        "id": "148b1849"
      },
      "outputs": [],
      "source": [
        "# name, university, description, skills, level, rating, url = df.loc[0]"
      ]
    },
    {
      "cell_type": "code",
      "execution_count": 238,
      "id": "6dfab1d3",
      "metadata": {
        "id": "6dfab1d3",
        "outputId": "a7c87990-0ba4-4c76-9b65-66929c9a58cb"
      },
      "outputs": [],
      "source": [
        "# description"
      ]
    },
    {
      "cell_type": "code",
      "execution_count": 239,
      "id": "249779ba",
      "metadata": {
        "id": "249779ba"
      },
      "outputs": [],
      "source": [
        "# template = 'Course name is {}. This course is available in coursera education platform. The course is provided by the {}. The course description is as follows:\\n {}\\n. The student can acquire the following skills after completion of this course: the skils are {}\\n. The level of difficulty for this course is {}. Currently the course has a rating of {}. You can find the course from the {} this url.'\n",
        "\n",
        "\n",
        "# courses_list = [\n",
        "#     template.format(\n",
        "#         name, university, description, skills, level, rating, url\n",
        "#     )\n",
        "\n",
        "#     for name, university, level, rating, url, description, skills in df.itertuples(index=False)\n",
        "# ]"
      ]
    },
    {
      "cell_type": "markdown",
      "id": "NlFlLTFaRtD3",
      "metadata": {
        "id": "NlFlLTFaRtD3"
      },
      "source": [
        "Index(['Title', 'Link', 'Organization', 'Instructor', 'Skills', 'Ratings',\n",
        "       'Review counts', 'Cost', 'Enrolled', 'Level', 'Cerification',\n",
        "       'Completion Time', 'Unnamed: 12', 'Decription'],\n",
        "      dtype='object')"
      ]
    },
    {
      "cell_type": "code",
      "execution_count": 240,
      "id": "54e71fe0",
      "metadata": {},
      "outputs": [
        {
          "data": {
            "text/plain": [
              "Cost\n",
              "Free    996\n",
              "Name: count, dtype: int64"
            ]
          },
          "execution_count": 240,
          "metadata": {},
          "output_type": "execute_result"
        }
      ],
      "source": [
        "df['Cost'].value_counts()"
      ]
    },
    {
      "cell_type": "code",
      "execution_count": 241,
      "id": "fGWKpewUMVpm",
      "metadata": {
        "id": "fGWKpewUMVpm"
      },
      "outputs": [],
      "source": [
        "#Coursera\n",
        "\n",
        "template_coursera = 'Course name is {}. This course is available in coursera education platform. The course is provided by the {}. The course instructor is {}. The course duration is 12 weeks. The course description is as follows:\\n {}\\n. The student can acquire the following skills after completion of this course: the skils are {}\\n. The level of difficulty for this course is {}. Currently the course has a rating of {}. This course is FREE-Add a Verified Certificate for price given in the website .This course is paid and available for free if no certificate is required.  You can find the course from the {} this url.'\n",
        "\n",
        "\n",
        "courses_list_coursera = [\n",
        "    template_coursera.format(\n",
        "        name, university, instructor, description, skills, level, rating, url\n",
        "    )\n",
        "\n",
        "    for name, url, university, instructor, skills,  rating,Review_counts, Cost,enrolled, level, Cerification, Completion_Time, description in df.itertuples(index=False)\n",
        "]"
      ]
    },
    {
      "cell_type": "code",
      "execution_count": 242,
      "id": "6882ca43",
      "metadata": {
        "colab": {
          "base_uri": "https://localhost:8080/",
          "height": 122
        },
        "id": "6882ca43",
        "outputId": "c4a8e1a3-cde9-4d18-e623-fe55c92bde4f",
        "scrolled": true
      },
      "outputs": [
        {
          "data": {
            "text/plain": [
              "'Course name is Google Data Analytics. This course is available in coursera education platform. The course is provided by the Google. The course instructor is Google Career Certificates. The course duration is 12 weeks. The course description is as follows:\\n Gain an immersive understanding of the practices and processes used by a junior or associate data analyst in their day-to-day job,Gain an immersive understanding of the practices and processes used by a junior or associate data analyst in their day-to-day job,Learn key analytical skills (data cleaning, analysis, & visualization) and tools (spreadsheets, SQL, R programming, Tableau) ,Learn key analytical skills (data cleaning, analysis, & visualization) and tools (spreadsheets, SQL, R programming, Tableau) ,Understand how to clean and organize data for analysis, and complete analysis and calculations using spreadsheets, SQL and R programming,Understand how to clean and organize data for analysis, and complete analysis and calculations using spreadsheets, SQL and R programming,Learn how to visualize and present data findings in dashboards, presentations and commonly used visualization platforms,Learn how to visualize and present data findings in dashboards, presentations and commonly used visualization platforms,\\n. The student can acquire the following skills after completion of this course: the skils are  Data Analysis, R Programming, SQL, Business Communication, Spreadsheet Software, Business Analysis, Data Visualization, Data Management, General Statistics, Big Data, Communication, Computer Programming, Data Science, Data Visualization Software, Databases, Exploratory Data Analysis, Extract, Transform, Load, Leadership and Management, Microsoft Excel, Problem Solving, Small Data, Statistical Programming, Tableau Software\\n. The level of difficulty for this course is Beginner. Currently the course has a rating of 4.8. This course is FREE-Add a Verified Certificate for price given in the website .This course is paid and available for free if no certificate is required.  You can find the course from the https://www.coursera.org/professional-certificates/google-data-analytics this url.'"
            ]
          },
          "execution_count": 242,
          "metadata": {},
          "output_type": "execute_result"
        }
      ],
      "source": [
        "courses_list_coursera[0]"
      ]
    },
    {
      "cell_type": "code",
      "execution_count": 243,
      "id": "Iw1WHHERGVYG",
      "metadata": {
        "colab": {
          "base_uri": "https://localhost:8080/"
        },
        "id": "Iw1WHHERGVYG",
        "outputId": "a79672f5-77e1-4404-e2a3-5c72503d9e97"
      },
      "outputs": [
        {
          "data": {
            "text/plain": [
              "(975, 19)"
            ]
          },
          "execution_count": 243,
          "metadata": {},
          "output_type": "execute_result"
        }
      ],
      "source": [
        "df_edx.shape"
      ]
    },
    {
      "cell_type": "code",
      "execution_count": 244,
      "id": "sZ4tsLikF5O5",
      "metadata": {
        "colab": {
          "base_uri": "https://localhost:8080/"
        },
        "id": "sZ4tsLikF5O5",
        "outputId": "3785f010-2c8e-48ac-a974-e229f6b08345"
      },
      "outputs": [
        {
          "data": {
            "text/plain": [
              "Index(['title', 'summary', 'n_enrolled', 'course_type', 'institution',\n",
              "       'instructors', 'Level', 'subject', 'language', 'subtitles',\n",
              "       'course_effort', 'course_length', 'price', 'course_description',\n",
              "       'course_syllabus', 'course_url', 'skills', 'Number of Reviews',\n",
              "       'Rating'],\n",
              "      dtype='object')"
            ]
          },
          "execution_count": 244,
          "metadata": {},
          "output_type": "execute_result"
        }
      ],
      "source": [
        "df_edx.columns"
      ]
    },
    {
      "cell_type": "code",
      "execution_count": 245,
      "id": "7ff6e39b",
      "metadata": {},
      "outputs": [
        {
          "data": {
            "text/plain": [
              "price\n",
              "FREE-Add a Verified Certificate for $49 USD        270\n",
              "FREE-Add a Verified Certificate for $99 USD        137\n",
              "FREE-Add a Verified Certificate for $50 USD         96\n",
              "FREE-Add a Verified Certificate for $199 USD        85\n",
              "FREE-Add a Verified Certificate for $149 USD        78\n",
              "FREE-Add a Verified Certificate for $25 USD         49\n",
              "FREE-Add a Verified Certificate for $139 USD        33\n",
              "FREE-Add a Verified Certificate for $150 USD        30\n",
              "FREE-Add a Verified Certificate for $249 USD        26\n",
              "FREE-Add a Verified Certificate for $79 USD         21\n",
              "FREE-Add a Verified Certificate for $169 USD        19\n",
              "FREE-Add a Verified Certificate for $29 USD         15\n",
              "FREE-Add a Verified Certificate for $39 USD         13\n",
              "FREE-Add a Verified Certificate for $299 USD         9\n",
              "FREE-Add a Verified Certificate for $129 USD         9\n",
              "FREE-Add a Verified Certificate for $125 USD         8\n",
              "FREE-Add a Verified Certificate for $5 USD           7\n",
              "FREE-Add a Verified Certificate for $59 USD          7\n",
              "FREE-Add a Verified Certificate for $75 USD          5\n",
              "FREE-Add a Verified Certificate for $49.99 USD       4\n",
              "FREE-Add a Verified Certificate for $90 USD          4\n",
              "FREE-Add a Verified Certificate for $119 USD         3\n",
              "FREE-Add a Verified Certificate for $214 USD         3\n",
              "FREE-Add a Verified Certificate for $250 USD         3\n",
              "FREE-Add a Verified Certificate for $60 USD          3\n",
              "FREE-Add a Verified Certificate for $350 USD         3\n",
              "FREE-Add a Verified Certificate for $70 USD          3\n",
              "FREE-Add a Verified Certificate for $300 USD         3\n",
              "FREE-Add a Verified Certificate for $225 USD         3\n",
              "FREE-Add a Verified Certificate for $100 USD         3\n",
              "FREE-Add a Verified Certificate for $19 USD          2\n",
              "FREE-Add a Verified Certificate for $65 USD          2\n",
              "FREE-Add a Verified Certificate for $40 USD          2\n",
              "FREE-Add a Verified Certificate for $299.70 USD      2\n",
              "FREE-Add a Verified Certificate for $179 USD         2\n",
              "FREE-Add a Verified Certificate for $399 USD         2\n",
              "FREE-Add a Verified Certificate for $399.60 USD      1\n",
              "FREE-Add a Verified Certificate for $49.90 USD       1\n",
              "FREE-Add a Verified Certificate for $166 USD         1\n",
              "FREE-Add a Verified Certificate for $375 USD         1\n",
              "FREE-Add a Verified Certificate for $159 USD         1\n",
              "FREE-Add a Verified Certificate for $450 USD         1\n",
              "FREE-Add a Verified Certificate for $69 USD          1\n",
              "FREE-Add a Verified Certificate for $10 USD          1\n",
              "FREE-Add a Verified Certificate for $200 USD         1\n",
              "FREE-Add a Verified Certificate for $15 USD          1\n",
              "FREE-Add a Verified Certificate for $30 USD          1\n",
              "Name: count, dtype: int64"
            ]
          },
          "execution_count": 245,
          "metadata": {},
          "output_type": "execute_result"
        }
      ],
      "source": [
        "df_edx['price'].value_counts()"
      ]
    },
    {
      "cell_type": "code",
      "execution_count": 246,
      "id": "9fbe5b27",
      "metadata": {},
      "outputs": [],
      "source": [
        "def dollar_rupees(x):\n",
        "    splits = x.split('$')\n",
        "    amount = splits[-1].split('USD')[0].strip()\n",
        "    rupees = float(amount)*83.50\n",
        "    return f\"{splits[0].strip()} Rs. {rupees}\"\n",
        "\n"
      ]
    },
    {
      "cell_type": "code",
      "execution_count": 247,
      "id": "4a40b771",
      "metadata": {},
      "outputs": [
        {
          "data": {
            "text/plain": [
              "'FREE-Add a Verified Certificate for Rs. 835.0'"
            ]
          },
          "execution_count": 247,
          "metadata": {},
          "output_type": "execute_result"
        }
      ],
      "source": [
        "dollar_rupees(\"FREE-Add a Verified Certificate for $10 USD\")"
      ]
    },
    {
      "cell_type": "code",
      "execution_count": 248,
      "id": "768383fc",
      "metadata": {},
      "outputs": [
        {
          "data": {
            "text/plain": [
              "price_rupees\n",
              "FREE-Add a Verified Certificate for Rs. 4091.5      270\n",
              "FREE-Add a Verified Certificate for Rs. 8266.5      137\n",
              "FREE-Add a Verified Certificate for Rs. 4175.0       96\n",
              "FREE-Add a Verified Certificate for Rs. 16616.5      85\n",
              "FREE-Add a Verified Certificate for Rs. 12441.5      78\n",
              "FREE-Add a Verified Certificate for Rs. 2087.5       49\n",
              "FREE-Add a Verified Certificate for Rs. 11606.5      33\n",
              "FREE-Add a Verified Certificate for Rs. 12525.0      30\n",
              "FREE-Add a Verified Certificate for Rs. 20791.5      26\n",
              "FREE-Add a Verified Certificate for Rs. 6596.5       21\n",
              "FREE-Add a Verified Certificate for Rs. 14111.5      19\n",
              "FREE-Add a Verified Certificate for Rs. 2421.5       15\n",
              "FREE-Add a Verified Certificate for Rs. 3256.5       13\n",
              "FREE-Add a Verified Certificate for Rs. 24966.5       9\n",
              "FREE-Add a Verified Certificate for Rs. 10771.5       9\n",
              "FREE-Add a Verified Certificate for Rs. 10437.5       8\n",
              "FREE-Add a Verified Certificate for Rs. 417.5         7\n",
              "FREE-Add a Verified Certificate for Rs. 4926.5        7\n",
              "FREE-Add a Verified Certificate for Rs. 6262.5        5\n",
              "FREE-Add a Verified Certificate for Rs. 4174.165      4\n",
              "FREE-Add a Verified Certificate for Rs. 7515.0        4\n",
              "FREE-Add a Verified Certificate for Rs. 9936.5        3\n",
              "FREE-Add a Verified Certificate for Rs. 17869.0       3\n",
              "FREE-Add a Verified Certificate for Rs. 20875.0       3\n",
              "FREE-Add a Verified Certificate for Rs. 5010.0        3\n",
              "FREE-Add a Verified Certificate for Rs. 29225.0       3\n",
              "FREE-Add a Verified Certificate for Rs. 5845.0        3\n",
              "FREE-Add a Verified Certificate for Rs. 25050.0       3\n",
              "FREE-Add a Verified Certificate for Rs. 18787.5       3\n",
              "FREE-Add a Verified Certificate for Rs. 8350.0        3\n",
              "FREE-Add a Verified Certificate for Rs. 1586.5        2\n",
              "FREE-Add a Verified Certificate for Rs. 5427.5        2\n",
              "FREE-Add a Verified Certificate for Rs. 3340.0        2\n",
              "FREE-Add a Verified Certificate for Rs. 25024.95      2\n",
              "FREE-Add a Verified Certificate for Rs. 14946.5       2\n",
              "FREE-Add a Verified Certificate for Rs. 33316.5       2\n",
              "FREE-Add a Verified Certificate for Rs. 33366.6       1\n",
              "FREE-Add a Verified Certificate for Rs. 4166.65       1\n",
              "FREE-Add a Verified Certificate for Rs. 13861.0       1\n",
              "FREE-Add a Verified Certificate for Rs. 31312.5       1\n",
              "FREE-Add a Verified Certificate for Rs. 13276.5       1\n",
              "FREE-Add a Verified Certificate for Rs. 37575.0       1\n",
              "FREE-Add a Verified Certificate for Rs. 5761.5        1\n",
              "FREE-Add a Verified Certificate for Rs. 835.0         1\n",
              "FREE-Add a Verified Certificate for Rs. 16700.0       1\n",
              "FREE-Add a Verified Certificate for Rs. 1252.5        1\n",
              "FREE-Add a Verified Certificate for Rs. 2505.0        1\n",
              "Name: count, dtype: int64"
            ]
          },
          "execution_count": 248,
          "metadata": {},
          "output_type": "execute_result"
        }
      ],
      "source": [
        "df_edx['price_rupees'] = df_edx['price'].apply(dollar_rupees) \n",
        "df_edx['price_rupees'].value_counts()"
      ]
    },
    {
      "cell_type": "code",
      "execution_count": 249,
      "id": "9a3a5e9a",
      "metadata": {},
      "outputs": [
        {
          "data": {
            "text/plain": [
              "Index(['title', 'summary', 'n_enrolled', 'course_type', 'institution',\n",
              "       'instructors', 'Level', 'subject', 'language', 'subtitles',\n",
              "       'course_effort', 'course_length', 'price', 'course_description',\n",
              "       'course_syllabus', 'course_url', 'skills', 'Number of Reviews',\n",
              "       'Rating', 'price_rupees'],\n",
              "      dtype='object')"
            ]
          },
          "execution_count": 249,
          "metadata": {},
          "output_type": "execute_result"
        }
      ],
      "source": [
        "df_edx.columns"
      ]
    },
    {
      "cell_type": "code",
      "execution_count": 250,
      "id": "19sS_pyZEhYH",
      "metadata": {
        "id": "19sS_pyZEhYH"
      },
      "outputs": [],
      "source": [
        "#EDX\n",
        "\n",
        "template_EDX = 'Course name is {}. This course is available in edX education platform. The course is provided by the {}. The course instructor is {}. The course duration is {}. The course description is as follows:\\n {}\\n. The student can acquire the following skills after completion of this course: the skils are {}\\n. The level of difficulty for this course is {}. Currently the course has a rating of {}. This course is {}. You can find the course from the {} this url.'\n",
        "\n",
        "\n",
        "courses_list_edx = [\n",
        "    template_EDX.format(\n",
        "        name, university, instructor, duration, description, skills, level, rating, rupees, url\n",
        "    )\n",
        "\n",
        "    for name, summary, n_enrolled, course_type, university,  instructor,level, subject, language, subtitles, course_effort, duration,cost ,description,course_syllabus, url, skills, Review_counts, rating, rupees in df_edx.itertuples(index=False)\n",
        "]"
      ]
    },
    {
      "cell_type": "code",
      "execution_count": 251,
      "id": "ke92dvVZF4jC",
      "metadata": {
        "colab": {
          "base_uri": "https://localhost:8080/",
          "height": 122
        },
        "id": "ke92dvVZF4jC",
        "outputId": "6ce44695-cb27-460c-cac8-e8c2fe640048"
      },
      "outputs": [
        {
          "data": {
            "text/plain": [
              "'Course name is How to Learn Online. This course is available in edX education platform. The course is provided by the edX. The course instructor is Nina Huntemann-Robyn Belair-Ben Piscopo. The course duration is 2 Weeks. The course description is as follows:\\n Designed for those who are new to elearning, this course will prepare you with strategies to be a successful online learner.The edX learning design team has curated some of the most powerful, science-backed techniques which you can start using right away and on any learning platform.The Verified Certificate for this course is free. Use the following coupon code before September 1, 2020 to upgrade at no cost to you: Y5ZADM5NU2AN5JU7This course will help you answer the following questions:\\n. The student can acquire the following skills after completion of this course: the skils are Learning Design\\n. The level of difficulty for this course is Introductory. Currently the course has a rating of 4.4. This course is FREE-Add a Verified Certificate for Rs. 4091.5. You can find the course from the https://www.edx.org/course/how-to-learn-online this url.'"
            ]
          },
          "execution_count": 251,
          "metadata": {},
          "output_type": "execute_result"
        }
      ],
      "source": [
        "courses_list_edx[0]"
      ]
    },
    {
      "cell_type": "code",
      "execution_count": 252,
      "id": "QSUK16JuIAM9",
      "metadata": {
        "id": "QSUK16JuIAM9"
      },
      "outputs": [],
      "source": [
        "final_courses_list = courses_list_coursera + courses_list_edx"
      ]
    },
    {
      "cell_type": "code",
      "execution_count": 253,
      "id": "5420bb62",
      "metadata": {
        "id": "5420bb62"
      },
      "outputs": [],
      "source": [
        "file_path = \"Coursera_courses.txt\"\n",
        "with open(file_path, \"w\") as file:\n",
        "    for i in range(len(courses_list_coursera)):\n",
        "        file.write(courses_list_coursera[i])"
      ]
    },
    {
      "cell_type": "code",
      "execution_count": 254,
      "id": "AZ6wR9g7IaMr",
      "metadata": {
        "id": "AZ6wR9g7IaMr"
      },
      "outputs": [],
      "source": [
        "file_path = \"edx_courses.txt\"\n",
        "with open(file_path, \"w\") as file:\n",
        "    for i in range(len(courses_list_edx)):\n",
        "        file.write(courses_list_edx[i])"
      ]
    },
    {
      "cell_type": "code",
      "execution_count": 100,
      "id": "z7uLsilMIaxT",
      "metadata": {
        "id": "z7uLsilMIaxT"
      },
      "outputs": [],
      "source": [
        "file_path = \"coursera_edx_courses_list.txt\"\n",
        "with open(file_path, \"w\") as file:\n",
        "    for i in range(len(final_courses_list)):\n",
        "        file.write(final_courses_list[i])"
      ]
    },
    {
      "cell_type": "code",
      "execution_count": null,
      "id": "25f455f0",
      "metadata": {},
      "outputs": [],
      "source": []
    },
    {
      "cell_type": "code",
      "execution_count": 136,
      "id": "897ba47a",
      "metadata": {},
      "outputs": [],
      "source": [
        "file_path = \"coursera_edx_courses_list.txt\"\n",
        "\n",
        "# Open the file in read mode\n",
        "with open(file_path, \"r\") as file:\n",
        "    # Read the contents of the file\n",
        "    content = file.read()"
      ]
    },
    {
      "cell_type": "code",
      "execution_count": 138,
      "id": "3d6f89cd",
      "metadata": {},
      "outputs": [
        {
          "data": {
            "text/plain": [
              "'C'"
            ]
          },
          "execution_count": 138,
          "metadata": {},
          "output_type": "execute_result"
        }
      ],
      "source": []
    },
    {
      "cell_type": "code",
      "execution_count": 255,
      "id": "E_fuOw0oJhFG",
      "metadata": {
        "id": "E_fuOw0oJhFG"
      },
      "outputs": [],
      "source": [
        "name_list_coursera = df['Title'].tolist()\n",
        "name_list_edx = df_edx['title'].tolist()"
      ]
    },
    {
      "cell_type": "code",
      "execution_count": 256,
      "id": "66ef6322",
      "metadata": {},
      "outputs": [],
      "source": [
        "names_list_coursera_edx = name_list_coursera + name_list_edx\n"
      ]
    },
    {
      "cell_type": "code",
      "execution_count": 257,
      "id": "4e749ffa",
      "metadata": {},
      "outputs": [
        {
          "data": {
            "text/plain": [
              "(1971, 1971)"
            ]
          },
          "execution_count": 257,
          "metadata": {},
          "output_type": "execute_result"
        }
      ],
      "source": [
        "len(names_list_coursera_edx), len(final_courses_list)"
      ]
    },
    {
      "cell_type": "code",
      "execution_count": 258,
      "id": "1jDeqllUJ6AJ",
      "metadata": {
        "id": "1jDeqllUJ6AJ"
      },
      "outputs": [
        {
          "name": "stdout",
          "output_type": "stream",
          "text": [
            "Marketing Analytics: Marketing Measurement Strategy\n",
            "Course name is Marketing Analytics: Marketing Measurement Strategy. This course is available in edX education platform. The course is provided by the University of California, Berkeley. The course instructor is Stephan Sorger. The course duration is 4 Weeks. The course description is as follows:\n",
            " Begin your journey in a new career in marketing analytics. Learn about powerful strategies and methodology, starting with identifying market trends and metrics used to measure marketing success.In this marketing course, you will learn how to execute market sizing, identify market trends, and predict future conditions.This course is taught by Stephan Sorger who has held leadership roles in marketing and product development at companies such as Oracle, 3Com and NASA. He has also taught for over a decade at UC Berkeley Extension and is the author of two widely adopted marketing textbooks. This course will equip you with the knowledge and skills necessary to immediately see practical benefits in the workplace.Analytics-based marketing is increasingly important in determining a company’s spending and ROI. Many entry-level positions in marketing now require some basic level of knowledge in this rapidly growing field.\n",
            ". The student can acquire the following skills after completion of this course: the skils are nan\n",
            ". The level of difficulty for this course is Introductory. Currently the course has a rating of 4.522. This course is FREE-Add a Verified Certificate for Rs. 20791.5. You can find the course from the https://www.edx.org/course/marketing-analytics-marketing-measurement-strategy this url.\n"
          ]
        }
      ],
      "source": [
        "print(names_list_coursera_edx[1000])\n",
        "print(final_courses_list[1000])"
      ]
    },
    {
      "cell_type": "code",
      "execution_count": 259,
      "id": "ec348002",
      "metadata": {},
      "outputs": [],
      "source": [
        "course_id = [x for x in range(len(names_list_coursera_edx))]"
      ]
    },
    {
      "cell_type": "code",
      "execution_count": 260,
      "id": "7a5933fc",
      "metadata": {},
      "outputs": [
        {
          "data": {
            "text/html": [
              "<div>\n",
              "<style scoped>\n",
              "    .dataframe tbody tr th:only-of-type {\n",
              "        vertical-align: middle;\n",
              "    }\n",
              "\n",
              "    .dataframe tbody tr th {\n",
              "        vertical-align: top;\n",
              "    }\n",
              "\n",
              "    .dataframe thead th {\n",
              "        text-align: right;\n",
              "    }\n",
              "</style>\n",
              "<table border=\"1\" class=\"dataframe\">\n",
              "  <thead>\n",
              "    <tr style=\"text-align: right;\">\n",
              "      <th></th>\n",
              "      <th>id</th>\n",
              "      <th>Title</th>\n",
              "      <th>content</th>\n",
              "    </tr>\n",
              "  </thead>\n",
              "  <tbody>\n",
              "    <tr>\n",
              "      <th>0</th>\n",
              "      <td>0</td>\n",
              "      <td>Google Data Analytics</td>\n",
              "      <td>Course name is Google Data Analytics. This cou...</td>\n",
              "    </tr>\n",
              "    <tr>\n",
              "      <th>1</th>\n",
              "      <td>1</td>\n",
              "      <td>Google Cybersecurity</td>\n",
              "      <td>Course name is Google Cybersecurity. This cour...</td>\n",
              "    </tr>\n",
              "    <tr>\n",
              "      <th>2</th>\n",
              "      <td>2</td>\n",
              "      <td>Google Project Management:</td>\n",
              "      <td>Course name is Google Project Management:. Thi...</td>\n",
              "    </tr>\n",
              "    <tr>\n",
              "      <th>3</th>\n",
              "      <td>3</td>\n",
              "      <td>IBM Data Science</td>\n",
              "      <td>Course name is IBM Data Science. This course i...</td>\n",
              "    </tr>\n",
              "    <tr>\n",
              "      <th>4</th>\n",
              "      <td>4</td>\n",
              "      <td>Google Digital Marketing &amp; E-commerce</td>\n",
              "      <td>Course name is Google Digital Marketing &amp; E-co...</td>\n",
              "    </tr>\n",
              "  </tbody>\n",
              "</table>\n",
              "</div>"
            ],
            "text/plain": [
              "   id                                  Title  \\\n",
              "0   0                  Google Data Analytics   \n",
              "1   1                   Google Cybersecurity   \n",
              "2   2             Google Project Management:   \n",
              "3   3                       IBM Data Science   \n",
              "4   4  Google Digital Marketing & E-commerce   \n",
              "\n",
              "                                             content  \n",
              "0  Course name is Google Data Analytics. This cou...  \n",
              "1  Course name is Google Cybersecurity. This cour...  \n",
              "2  Course name is Google Project Management:. Thi...  \n",
              "3  Course name is IBM Data Science. This course i...  \n",
              "4  Course name is Google Digital Marketing & E-co...  "
            ]
          },
          "execution_count": 260,
          "metadata": {},
          "output_type": "execute_result"
        }
      ],
      "source": [
        "df_content_list = pd.DataFrame({\"id\": course_id, \"Title\": names_list_coursera_edx, \"content\": final_courses_list})\n",
        "df_content_list.head()"
      ]
    },
    {
      "cell_type": "code",
      "execution_count": 261,
      "id": "527fcfcf",
      "metadata": {},
      "outputs": [
        {
          "data": {
            "text/plain": [
              "(1971, 3)"
            ]
          },
          "execution_count": 261,
          "metadata": {},
          "output_type": "execute_result"
        }
      ],
      "source": [
        "df_content_list.shape"
      ]
    },
    {
      "cell_type": "code",
      "execution_count": 141,
      "id": "d31f2369",
      "metadata": {},
      "outputs": [],
      "source": [
        "df_content_list.to_csv(\"coursera_edx_master.csv\", index=False)"
      ]
    },
    {
      "cell_type": "code",
      "execution_count": 142,
      "id": "12dc2de2",
      "metadata": {},
      "outputs": [
        {
          "data": {
            "text/plain": [
              "Index(['id', 'Title', 'content'], dtype='object')"
            ]
          },
          "execution_count": 142,
          "metadata": {},
          "output_type": "execute_result"
        }
      ],
      "source": [
        "df_content_list.columns"
      ]
    },
    {
      "cell_type": "code",
      "execution_count": 262,
      "id": "169279b2",
      "metadata": {},
      "outputs": [
        {
          "data": {
            "text/html": [
              "<div>\n",
              "<style scoped>\n",
              "    .dataframe tbody tr th:only-of-type {\n",
              "        vertical-align: middle;\n",
              "    }\n",
              "\n",
              "    .dataframe tbody tr th {\n",
              "        vertical-align: top;\n",
              "    }\n",
              "\n",
              "    .dataframe thead th {\n",
              "        text-align: right;\n",
              "    }\n",
              "</style>\n",
              "<table border=\"1\" class=\"dataframe\">\n",
              "  <thead>\n",
              "    <tr style=\"text-align: right;\">\n",
              "      <th></th>\n",
              "      <th>id</th>\n",
              "      <th>Title</th>\n",
              "      <th>content</th>\n",
              "    </tr>\n",
              "  </thead>\n",
              "  <tbody>\n",
              "    <tr>\n",
              "      <th>0</th>\n",
              "      <td>0</td>\n",
              "      <td>Google Data Analytics</td>\n",
              "      <td>Course name is Google Data Analytics. This cou...</td>\n",
              "    </tr>\n",
              "    <tr>\n",
              "      <th>1</th>\n",
              "      <td>1</td>\n",
              "      <td>Google Cybersecurity</td>\n",
              "      <td>Course name is Google Cybersecurity. This cour...</td>\n",
              "    </tr>\n",
              "    <tr>\n",
              "      <th>2</th>\n",
              "      <td>2</td>\n",
              "      <td>Google Project Management:</td>\n",
              "      <td>Course name is Google Project Management:. Thi...</td>\n",
              "    </tr>\n",
              "    <tr>\n",
              "      <th>3</th>\n",
              "      <td>3</td>\n",
              "      <td>IBM Data Science</td>\n",
              "      <td>Course name is IBM Data Science. This course i...</td>\n",
              "    </tr>\n",
              "    <tr>\n",
              "      <th>4</th>\n",
              "      <td>4</td>\n",
              "      <td>Google Digital Marketing &amp; E-commerce</td>\n",
              "      <td>Course name is Google Digital Marketing &amp; E-co...</td>\n",
              "    </tr>\n",
              "  </tbody>\n",
              "</table>\n",
              "</div>"
            ],
            "text/plain": [
              "   id                                  Title  \\\n",
              "0   0                  Google Data Analytics   \n",
              "1   1                   Google Cybersecurity   \n",
              "2   2             Google Project Management:   \n",
              "3   3                       IBM Data Science   \n",
              "4   4  Google Digital Marketing & E-commerce   \n",
              "\n",
              "                                             content  \n",
              "0  Course name is Google Data Analytics. This cou...  \n",
              "1  Course name is Google Cybersecurity. This cour...  \n",
              "2  Course name is Google Project Management:. Thi...  \n",
              "3  Course name is IBM Data Science. This course i...  \n",
              "4  Course name is Google Digital Marketing & E-co...  "
            ]
          },
          "execution_count": 262,
          "metadata": {},
          "output_type": "execute_result"
        }
      ],
      "source": [
        "df_trial = pd.read_csv(\"coursera_edx_master.csv\")\n",
        "df_trial.head()"
      ]
    },
    {
      "cell_type": "code",
      "execution_count": null,
      "id": "9774acff",
      "metadata": {},
      "outputs": [],
      "source": []
    },
    {
      "cell_type": "markdown",
      "id": "c5c37f14",
      "metadata": {},
      "source": [
        "# second template"
      ]
    },
    {
      "cell_type": "code",
      "execution_count": 263,
      "id": "86801b19",
      "metadata": {},
      "outputs": [],
      "source": [
        "#Coursera\n",
        "\n",
        "template_coursera_2 = 'Course name is {}. The course duration is 12 weeks. The course description is as follows:\\n {}\\n. The student can acquire the following skills after completion of this course: the skils are {}\\n. The level of difficulty for this course is {}. This course is paid and available for free if no certificate is required'\n",
        "\n",
        "\n",
        "courses_list_coursera_2 = [\n",
        "    template_coursera_2.format(\n",
        "        name, description, skills, level\n",
        "    )\n",
        "\n",
        "    for name, url, university, instructor, skills,  rating,Review_counts, Cost,enrolled, level, Cerification, Completion_Time, description in df.itertuples(index=False)\n",
        "]"
      ]
    },
    {
      "cell_type": "code",
      "execution_count": 264,
      "id": "6c701da0",
      "metadata": {},
      "outputs": [
        {
          "data": {
            "text/plain": [
              "'Course name is Google Data Analytics. The course duration is 12 weeks. The course description is as follows:\\n Gain an immersive understanding of the practices and processes used by a junior or associate data analyst in their day-to-day job,Gain an immersive understanding of the practices and processes used by a junior or associate data analyst in their day-to-day job,Learn key analytical skills (data cleaning, analysis, & visualization) and tools (spreadsheets, SQL, R programming, Tableau) ,Learn key analytical skills (data cleaning, analysis, & visualization) and tools (spreadsheets, SQL, R programming, Tableau) ,Understand how to clean and organize data for analysis, and complete analysis and calculations using spreadsheets, SQL and R programming,Understand how to clean and organize data for analysis, and complete analysis and calculations using spreadsheets, SQL and R programming,Learn how to visualize and present data findings in dashboards, presentations and commonly used visualization platforms,Learn how to visualize and present data findings in dashboards, presentations and commonly used visualization platforms,\\n. The student can acquire the following skills after completion of this course: the skils are  Data Analysis, R Programming, SQL, Business Communication, Spreadsheet Software, Business Analysis, Data Visualization, Data Management, General Statistics, Big Data, Communication, Computer Programming, Data Science, Data Visualization Software, Databases, Exploratory Data Analysis, Extract, Transform, Load, Leadership and Management, Microsoft Excel, Problem Solving, Small Data, Statistical Programming, Tableau Software\\n. The level of difficulty for this course is Beginner. This course is paid and available for free if no certificate is required'"
            ]
          },
          "execution_count": 264,
          "metadata": {},
          "output_type": "execute_result"
        }
      ],
      "source": [
        "courses_list_coursera_2[0]"
      ]
    },
    {
      "cell_type": "code",
      "execution_count": 265,
      "id": "5a8551b8",
      "metadata": {},
      "outputs": [
        {
          "data": {
            "text/plain": [
              "Index(['title', 'summary', 'n_enrolled', 'course_type', 'institution',\n",
              "       'instructors', 'Level', 'subject', 'language', 'subtitles',\n",
              "       'course_effort', 'course_length', 'price', 'course_description',\n",
              "       'course_syllabus', 'course_url', 'skills', 'Number of Reviews',\n",
              "       'Rating', 'price_rupees'],\n",
              "      dtype='object')"
            ]
          },
          "execution_count": 265,
          "metadata": {},
          "output_type": "execute_result"
        }
      ],
      "source": [
        "df_edx.columns"
      ]
    },
    {
      "cell_type": "code",
      "execution_count": 266,
      "id": "61f372b6",
      "metadata": {},
      "outputs": [],
      "source": [
        "#EDX\n",
        "\n",
        "template_EDX_2 = 'Course name is {}. The course duration is {}. The course description is as follows:\\n {}\\n. The student can acquire the following skills after completion of this course: the skils are {}\\n. The level of difficulty for this course is {}. This course is {}'\n",
        "\n",
        "\n",
        "courses_list_edx_2 = [\n",
        "    template_EDX_2.format(\n",
        "        name, duration, description, skills, level, rupees\n",
        "    )\n",
        "\n",
        "    for name, summary, n_enrolled, course_type, university,  instructor,level, subject, language, subtitles, course_effort, duration,cost ,description,course_syllabus, url, skills, Review_counts, rating, rupees in df_edx.itertuples(index=False)\n",
        "]"
      ]
    },
    {
      "cell_type": "code",
      "execution_count": 267,
      "id": "600aab9a",
      "metadata": {},
      "outputs": [
        {
          "data": {
            "text/plain": [
              "'Course name is How to Learn Online. The course duration is 2 Weeks. The course description is as follows:\\n Designed for those who are new to elearning, this course will prepare you with strategies to be a successful online learner.The edX learning design team has curated some of the most powerful, science-backed techniques which you can start using right away and on any learning platform.The Verified Certificate for this course is free. Use the following coupon code before September 1, 2020 to upgrade at no cost to you: Y5ZADM5NU2AN5JU7This course will help you answer the following questions:\\n. The student can acquire the following skills after completion of this course: the skils are Learning Design\\n. The level of difficulty for this course is Introductory. This course is FREE-Add a Verified Certificate for Rs. 4091.5'"
            ]
          },
          "execution_count": 267,
          "metadata": {},
          "output_type": "execute_result"
        }
      ],
      "source": [
        "courses_list_edx_2[0]"
      ]
    },
    {
      "cell_type": "code",
      "execution_count": 268,
      "id": "ab132674",
      "metadata": {},
      "outputs": [
        {
          "data": {
            "text/plain": [
              "1971"
            ]
          },
          "execution_count": 268,
          "metadata": {},
          "output_type": "execute_result"
        }
      ],
      "source": [
        "final_courses_list_2 = courses_list_coursera_2 + courses_list_edx_2\n",
        "len(final_courses_list_2)"
      ]
    },
    {
      "cell_type": "code",
      "execution_count": 269,
      "metadata": {},
      "outputs": [
        {
          "data": {
            "text/html": [
              "<div>\n",
              "<style scoped>\n",
              "    .dataframe tbody tr th:only-of-type {\n",
              "        vertical-align: middle;\n",
              "    }\n",
              "\n",
              "    .dataframe tbody tr th {\n",
              "        vertical-align: top;\n",
              "    }\n",
              "\n",
              "    .dataframe thead th {\n",
              "        text-align: right;\n",
              "    }\n",
              "</style>\n",
              "<table border=\"1\" class=\"dataframe\">\n",
              "  <thead>\n",
              "    <tr style=\"text-align: right;\">\n",
              "      <th></th>\n",
              "      <th>id</th>\n",
              "      <th>Title</th>\n",
              "      <th>content</th>\n",
              "    </tr>\n",
              "  </thead>\n",
              "  <tbody>\n",
              "    <tr>\n",
              "      <th>0</th>\n",
              "      <td>0</td>\n",
              "      <td>Google Data Analytics</td>\n",
              "      <td>Course name is Google Data Analytics. The cour...</td>\n",
              "    </tr>\n",
              "    <tr>\n",
              "      <th>1</th>\n",
              "      <td>1</td>\n",
              "      <td>Google Cybersecurity</td>\n",
              "      <td>Course name is Google Cybersecurity. The cours...</td>\n",
              "    </tr>\n",
              "    <tr>\n",
              "      <th>2</th>\n",
              "      <td>2</td>\n",
              "      <td>Google Project Management:</td>\n",
              "      <td>Course name is Google Project Management:. The...</td>\n",
              "    </tr>\n",
              "    <tr>\n",
              "      <th>3</th>\n",
              "      <td>3</td>\n",
              "      <td>IBM Data Science</td>\n",
              "      <td>Course name is IBM Data Science. The course du...</td>\n",
              "    </tr>\n",
              "    <tr>\n",
              "      <th>4</th>\n",
              "      <td>4</td>\n",
              "      <td>Google Digital Marketing &amp; E-commerce</td>\n",
              "      <td>Course name is Google Digital Marketing &amp; E-co...</td>\n",
              "    </tr>\n",
              "  </tbody>\n",
              "</table>\n",
              "</div>"
            ],
            "text/plain": [
              "   id                                  Title  \\\n",
              "0   0                  Google Data Analytics   \n",
              "1   1                   Google Cybersecurity   \n",
              "2   2             Google Project Management:   \n",
              "3   3                       IBM Data Science   \n",
              "4   4  Google Digital Marketing & E-commerce   \n",
              "\n",
              "                                             content  \n",
              "0  Course name is Google Data Analytics. The cour...  \n",
              "1  Course name is Google Cybersecurity. The cours...  \n",
              "2  Course name is Google Project Management:. The...  \n",
              "3  Course name is IBM Data Science. The course du...  \n",
              "4  Course name is Google Digital Marketing & E-co...  "
            ]
          },
          "execution_count": 269,
          "metadata": {},
          "output_type": "execute_result"
        }
      ],
      "source": [
        "df_content_2_list = pd.DataFrame({\"id\": course_id, \"Title\": names_list_coursera_edx, \"content\": final_courses_list_2})   ## specific contents only\n",
        "df_content_2_list.head()"
      ]
    },
    {
      "cell_type": "code",
      "execution_count": 151,
      "id": "ab8d540d",
      "metadata": {},
      "outputs": [],
      "source": [
        "df_content_2_list.to_csv(\"coursera_edx_specific.csv\", index=False)"
      ]
    },
    {
      "cell_type": "code",
      "execution_count": 270,
      "id": "49b5af7a",
      "metadata": {},
      "outputs": [
        {
          "data": {
            "text/html": [
              "<div>\n",
              "<style scoped>\n",
              "    .dataframe tbody tr th:only-of-type {\n",
              "        vertical-align: middle;\n",
              "    }\n",
              "\n",
              "    .dataframe tbody tr th {\n",
              "        vertical-align: top;\n",
              "    }\n",
              "\n",
              "    .dataframe thead th {\n",
              "        text-align: right;\n",
              "    }\n",
              "</style>\n",
              "<table border=\"1\" class=\"dataframe\">\n",
              "  <thead>\n",
              "    <tr style=\"text-align: right;\">\n",
              "      <th></th>\n",
              "      <th>id</th>\n",
              "      <th>Title</th>\n",
              "      <th>content</th>\n",
              "    </tr>\n",
              "  </thead>\n",
              "  <tbody>\n",
              "    <tr>\n",
              "      <th>0</th>\n",
              "      <td>0</td>\n",
              "      <td>Google Data Analytics</td>\n",
              "      <td>Course name is Google Data Analytics. This cou...</td>\n",
              "    </tr>\n",
              "    <tr>\n",
              "      <th>1</th>\n",
              "      <td>1</td>\n",
              "      <td>Google Cybersecurity</td>\n",
              "      <td>Course name is Google Cybersecurity. This cour...</td>\n",
              "    </tr>\n",
              "    <tr>\n",
              "      <th>2</th>\n",
              "      <td>2</td>\n",
              "      <td>Google Project Management:</td>\n",
              "      <td>Course name is Google Project Management:. Thi...</td>\n",
              "    </tr>\n",
              "    <tr>\n",
              "      <th>3</th>\n",
              "      <td>3</td>\n",
              "      <td>IBM Data Science</td>\n",
              "      <td>Course name is IBM Data Science. This course i...</td>\n",
              "    </tr>\n",
              "    <tr>\n",
              "      <th>4</th>\n",
              "      <td>4</td>\n",
              "      <td>Google Digital Marketing &amp; E-commerce</td>\n",
              "      <td>Course name is Google Digital Marketing &amp; E-co...</td>\n",
              "    </tr>\n",
              "    <tr>\n",
              "      <th>...</th>\n",
              "      <td>...</td>\n",
              "      <td>...</td>\n",
              "      <td>...</td>\n",
              "    </tr>\n",
              "    <tr>\n",
              "      <th>1966</th>\n",
              "      <td>1966</td>\n",
              "      <td>Leaders in Citizen Security and Justice Manage...</td>\n",
              "      <td>Course name is Leaders in Citizen Security and...</td>\n",
              "    </tr>\n",
              "    <tr>\n",
              "      <th>1967</th>\n",
              "      <td>1967</td>\n",
              "      <td>Pattern Studying and Making | 图案审美与创作</td>\n",
              "      <td>Course name is Pattern Studying and Making | 图...</td>\n",
              "    </tr>\n",
              "    <tr>\n",
              "      <th>1968</th>\n",
              "      <td>1968</td>\n",
              "      <td>Computational Neuroscience: Neuronal Dynamics ...</td>\n",
              "      <td>Course name is Computational Neuroscience: Neu...</td>\n",
              "    </tr>\n",
              "    <tr>\n",
              "      <th>1969</th>\n",
              "      <td>1969</td>\n",
              "      <td>Cities and the Challenge of Sustainable Develo...</td>\n",
              "      <td>Course name is Cities and the Challenge of Sus...</td>\n",
              "    </tr>\n",
              "    <tr>\n",
              "      <th>1970</th>\n",
              "      <td>1970</td>\n",
              "      <td>MathTrackX: Special Functions</td>\n",
              "      <td>Course name is MathTrackX: Special Functions. ...</td>\n",
              "    </tr>\n",
              "  </tbody>\n",
              "</table>\n",
              "<p>1971 rows × 3 columns</p>\n",
              "</div>"
            ],
            "text/plain": [
              "        id                                              Title  \\\n",
              "0        0                              Google Data Analytics   \n",
              "1        1                               Google Cybersecurity   \n",
              "2        2                         Google Project Management:   \n",
              "3        3                                   IBM Data Science   \n",
              "4        4              Google Digital Marketing & E-commerce   \n",
              "...    ...                                                ...   \n",
              "1966  1966  Leaders in Citizen Security and Justice Manage...   \n",
              "1967  1967              Pattern Studying and Making | 图案审美与创作   \n",
              "1968  1968  Computational Neuroscience: Neuronal Dynamics ...   \n",
              "1969  1969  Cities and the Challenge of Sustainable Develo...   \n",
              "1970  1970                      MathTrackX: Special Functions   \n",
              "\n",
              "                                                content  \n",
              "0     Course name is Google Data Analytics. This cou...  \n",
              "1     Course name is Google Cybersecurity. This cour...  \n",
              "2     Course name is Google Project Management:. Thi...  \n",
              "3     Course name is IBM Data Science. This course i...  \n",
              "4     Course name is Google Digital Marketing & E-co...  \n",
              "...                                                 ...  \n",
              "1966  Course name is Leaders in Citizen Security and...  \n",
              "1967  Course name is Pattern Studying and Making | 图...  \n",
              "1968  Course name is Computational Neuroscience: Neu...  \n",
              "1969  Course name is Cities and the Challenge of Sus...  \n",
              "1970  Course name is MathTrackX: Special Functions. ...  \n",
              "\n",
              "[1971 rows x 3 columns]"
            ]
          },
          "execution_count": 270,
          "metadata": {},
          "output_type": "execute_result"
        }
      ],
      "source": [
        "df_content_list"
      ]
    },
    {
      "cell_type": "code",
      "execution_count": null,
      "id": "248ee6fd",
      "metadata": {},
      "outputs": [],
      "source": []
    },
    {
      "cell_type": "code",
      "execution_count": 157,
      "id": "7092c320",
      "metadata": {},
      "outputs": [],
      "source": [
        "## create a \n",
        "\n",
        "id2title = {} ## dictionary with id as key and course name as val\n",
        "id2MasterContent = {}  ## dictionary with id as key and course content as val\n",
        "\n",
        "\n",
        "for id, title, content in df_content_list.itertuples(index=False):\n",
        "    id2title[id] = title\n",
        "    id2MasterContent[id] = content\n",
        "\n",
        "    "
      ]
    },
    {
      "cell_type": "code",
      "execution_count": 160,
      "id": "638247cf",
      "metadata": {},
      "outputs": [],
      "source": [
        "import json\n",
        "json_file_path = 'id2title.json'\n",
        "with open(json_file_path, 'w') as json_file:\n",
        "    json.dump(id2title, json_file, indent=4)"
      ]
    },
    {
      "cell_type": "code",
      "execution_count": 159,
      "id": "dd2a19fe",
      "metadata": {},
      "outputs": [],
      "source": [
        "json_file_path = 'id2MasterContent.json'\n",
        "with open(json_file_path, 'w') as json_file:\n",
        "    json.dump(id2MasterContent, json_file, indent=4)"
      ]
    },
    {
      "cell_type": "code",
      "execution_count": 162,
      "id": "eee0d9ce",
      "metadata": {},
      "outputs": [
        {
          "data": {
            "text/plain": [
              "1971"
            ]
          },
          "execution_count": 162,
          "metadata": {},
          "output_type": "execute_result"
        }
      ],
      "source": [
        "sum(df_content_2_list['Title']==df_content_list['Title'])"
      ]
    },
    {
      "cell_type": "code",
      "execution_count": 165,
      "id": "72168f5d",
      "metadata": {},
      "outputs": [],
      "source": [
        "## specific content\n",
        "\n",
        "id2SpecificContent = {}  ## dictionary with id as key and course content as val\n",
        "\n",
        "\n",
        "for id, title, content in df_content_2_list.itertuples(index=False):\n",
        "    id2SpecificContent[id] = content\n",
        "\n",
        "json_file_path = 'id2SpecificContent.json'\n",
        "with open(json_file_path, 'w') as json_file:\n",
        "    json.dump(id2SpecificContent, json_file, indent=4)\n",
        "    "
      ]
    },
    {
      "cell_type": "markdown",
      "id": "62376bc7",
      "metadata": {},
      "source": [
        "## Create new columns\n",
        "\n",
        "1. normalised no. of enrolled [0,1]\n",
        "2. normalised rating  [-1,1]\n",
        "3. ratio of (n_rating) and (n_enrolled)"
      ]
    },
    {
      "cell_type": "code",
      "execution_count": 173,
      "id": "38c8783b",
      "metadata": {},
      "outputs": [
        {
          "data": {
            "text/plain": [
              "Index(['Title', 'Link', 'Organization', 'Instructor', 'Skills', 'Ratings',\n",
              "       'Review counts', 'Cost', 'Enrolled', 'Level', 'Cerification',\n",
              "       'Completion Time', 'Decription'],\n",
              "      dtype='object')"
            ]
          },
          "execution_count": 173,
          "metadata": {},
          "output_type": "execute_result"
        }
      ],
      "source": [
        "df.columns"
      ]
    },
    {
      "cell_type": "code",
      "execution_count": 272,
      "id": "0b4f2402",
      "metadata": {},
      "outputs": [],
      "source": [
        "import numpy as np"
      ]
    },
    {
      "cell_type": "code",
      "execution_count": 296,
      "id": "4da9dbd7",
      "metadata": {},
      "outputs": [],
      "source": [
        "def Remove_comma(x):\n",
        "    if x:\n",
        "        return float(\"\".join(str(x).split(',')))\n",
        "    else:\n",
        "        return float(x)"
      ]
    },
    {
      "cell_type": "code",
      "execution_count": 293,
      "id": "320fcaa8",
      "metadata": {},
      "outputs": [
        {
          "data": {
            "text/plain": [
              "nan"
            ]
          },
          "execution_count": 293,
          "metadata": {},
          "output_type": "execute_result"
        }
      ],
      "source": [
        "df_edx['n_enrolled'][971]"
      ]
    },
    {
      "cell_type": "code",
      "execution_count": 297,
      "id": "8feb78e5",
      "metadata": {},
      "outputs": [
        {
          "name": "stdout",
          "output_type": "stream",
          "text": [
            "before ['1,24,980' '2,93,864' '24,42,271' '1,29,555' '81,140' '3,01,793' '32,847'\n",
            " '67,073' '23,061' '92,411']\n",
            "after [ 124980.  293864. 2442271.  129555.   81140.  301793.   32847.   67073.\n",
            "   23061.   92411.]\n"
          ]
        }
      ],
      "source": [
        "print('before',df_edx['n_enrolled'].values[:10])\n",
        "df_edx['n_enrolled_no_comma'] = df_edx['n_enrolled'].apply(Remove_comma)  ## remove comma from the numbers\n",
        "print('after',df_edx['n_enrolled_no_comma'].values[:10])"
      ]
    },
    {
      "cell_type": "code",
      "execution_count": 303,
      "id": "172ff41b",
      "metadata": {},
      "outputs": [
        {
          "data": {
            "text/plain": [
              "5001.0"
            ]
          },
          "execution_count": 303,
          "metadata": {},
          "output_type": "execute_result"
        }
      ],
      "source": [
        "round(df_edx['n_enrolled_no_comma'].min(),3)"
      ]
    },
    {
      "cell_type": "code",
      "execution_count": 304,
      "id": "3c0735f9",
      "metadata": {},
      "outputs": [
        {
          "name": "stderr",
          "output_type": "stream",
          "text": [
            "C:\\Users\\Admin\\AppData\\Local\\Temp\\ipykernel_12132\\1127003304.py:2: FutureWarning: A value is trying to be set on a copy of a DataFrame or Series through chained assignment using an inplace method.\n",
            "The behavior will change in pandas 3.0. This inplace method will never work because the intermediate object on which we are setting values always behaves as a copy.\n",
            "\n",
            "For example, when doing 'df[col].method(value, inplace=True)', try using 'df.method({col: value}, inplace=True)' or df[col] = df[col].method(value) instead, to perform the operation inplace on the original object.\n",
            "\n",
            "\n",
            "  df_edx['n_enrolled_no_comma'].fillna(min_n_enrolled_edx, inplace=True)\n"
          ]
        },
        {
          "data": {
            "text/plain": [
              "0       124980.0\n",
              "1       293864.0\n",
              "2      2442271.0\n",
              "3       129555.0\n",
              "4        81140.0\n",
              "         ...    \n",
              "970       5001.0\n",
              "971       5001.0\n",
              "972      11246.0\n",
              "973       8775.0\n",
              "974       5001.0\n",
              "Name: n_enrolled_no_comma, Length: 975, dtype: float64"
            ]
          },
          "execution_count": 304,
          "metadata": {},
          "output_type": "execute_result"
        }
      ],
      "source": [
        "min_n_enrolled_edx = round(df_edx['n_enrolled_no_comma'].min(),3)\n",
        "df_edx['n_enrolled_no_comma'].fillna(min_n_enrolled_edx, inplace=True)\n",
        "df_edx['n_enrolled_no_comma']"
      ]
    },
    {
      "cell_type": "code",
      "execution_count": 307,
      "id": "d6bed56e",
      "metadata": {},
      "outputs": [
        {
          "data": {
            "text/plain": [
              "2442271.0"
            ]
          },
          "execution_count": 307,
          "metadata": {},
          "output_type": "execute_result"
        }
      ],
      "source": [
        "max_n_enrolled_edx = round(df_edx['n_enrolled_no_comma'].max(),3)\n",
        "max_n_enrolled_edx"
      ]
    },
    {
      "cell_type": "code",
      "execution_count": 309,
      "id": "e4695404",
      "metadata": {},
      "outputs": [
        {
          "data": {
            "text/plain": [
              "0      0.049227\n",
              "1      0.118519\n",
              "2      1.000000\n",
              "3      0.051104\n",
              "4      0.031239\n",
              "         ...   \n",
              "970    0.000000\n",
              "971    0.000000\n",
              "972    0.002562\n",
              "973    0.001548\n",
              "974    0.000000\n",
              "Name: n_enrolled_normalised, Length: 975, dtype: float64"
            ]
          },
          "execution_count": 309,
          "metadata": {},
          "output_type": "execute_result"
        }
      ],
      "source": [
        "df_edx['n_enrolled_normalised'] = df_edx['n_enrolled_no_comma'].apply(lambda x: (x - min_n_enrolled_edx)/(max_n_enrolled_edx - min_n_enrolled_edx))\n",
        "df_edx['n_enrolled_normalised']"
      ]
    },
    {
      "cell_type": "code",
      "execution_count": 312,
      "id": "386cf861",
      "metadata": {},
      "outputs": [
        {
          "data": {
            "text/plain": [
              "Index(['title', 'summary', 'n_enrolled', 'course_type', 'institution',\n",
              "       'instructors', 'Level', 'subject', 'language', 'subtitles',\n",
              "       'course_effort', 'course_length', 'price', 'course_description',\n",
              "       'course_syllabus', 'course_url', 'skills', 'Number of Reviews',\n",
              "       'Rating', 'price_rupees', 'n_enrolled_no_comma',\n",
              "       'n_enrolled_normalised'],\n",
              "      dtype='object')"
            ]
          },
          "execution_count": 312,
          "metadata": {},
          "output_type": "execute_result"
        }
      ],
      "source": [
        "df_edx.columns"
      ]
    },
    {
      "cell_type": "code",
      "execution_count": 313,
      "id": "9b2a08ee",
      "metadata": {},
      "outputs": [
        {
          "data": {
            "text/plain": [
              "4.522"
            ]
          },
          "execution_count": 313,
          "metadata": {},
          "output_type": "execute_result"
        }
      ],
      "source": [
        "avg_rating_edx = round(df_edx['Rating'].mean(),3)\n",
        "avg_rating_edx"
      ]
    },
    {
      "cell_type": "code",
      "execution_count": 314,
      "id": "035e407c",
      "metadata": {},
      "outputs": [],
      "source": [
        "max_rating_edx = round(df_edx['Rating'].max(),3)\n",
        "min_rating_edx = round(df_edx['Rating'].min(),3)"
      ]
    },
    {
      "cell_type": "code",
      "execution_count": 316,
      "id": "09f5711f",
      "metadata": {},
      "outputs": [
        {
          "data": {
            "text/plain": [
              "3.2"
            ]
          },
          "execution_count": 316,
          "metadata": {},
          "output_type": "execute_result"
        }
      ],
      "source": [
        "min_rating_edx"
      ]
    },
    {
      "cell_type": "code",
      "execution_count": 317,
      "id": "1161043b",
      "metadata": {},
      "outputs": [
        {
          "data": {
            "text/plain": [
              "0     -0.067778\n",
              "1      0.098889\n",
              "2      0.000000\n",
              "3      0.000000\n",
              "4      0.000000\n",
              "         ...   \n",
              "970    0.000000\n",
              "971    0.000000\n",
              "972    0.000000\n",
              "973   -0.067778\n",
              "974    0.000000\n",
              "Name: ratings_normalised, Length: 975, dtype: float64"
            ]
          },
          "execution_count": 317,
          "metadata": {},
          "output_type": "execute_result"
        }
      ],
      "source": [
        "df_edx['ratings_normalised'] = df_edx['Rating'].apply(lambda x: (x - avg_rating_edx) / (max_rating_edx - min_rating_edx))\n",
        "df_edx['ratings_normalised']"
      ]
    },
    {
      "cell_type": "code",
      "execution_count": 331,
      "id": "2b312aca",
      "metadata": {},
      "outputs": [],
      "source": [
        "def convert_float(x):\n",
        "    try:\n",
        "        return float(x)\n",
        "    except:\n",
        "        return float(70)"
      ]
    },
    {
      "cell_type": "code",
      "execution_count": 332,
      "id": "89f3b385",
      "metadata": {},
      "outputs": [],
      "source": [
        "df_edx['Number of Reviews'] = df_edx['Number of Reviews'].apply(convert_float)"
      ]
    },
    {
      "cell_type": "code",
      "execution_count": 333,
      "id": "20492cf6",
      "metadata": {},
      "outputs": [
        {
          "data": {
            "text/plain": [
              "0      0.000232\n",
              "1      0.000344\n",
              "2      0.000029\n",
              "3      0.000540\n",
              "4      0.000863\n",
              "         ...   \n",
              "970    0.013997\n",
              "971    0.013997\n",
              "972    0.006224\n",
              "973    0.001140\n",
              "974    0.013997\n",
              "Name: ratio(n_rating,n_enrolled), Length: 975, dtype: float64"
            ]
          },
          "execution_count": 333,
          "metadata": {},
          "output_type": "execute_result"
        }
      ],
      "source": [
        "df_edx['ratio(n_rating,n_enrolled)'] = df_edx['Number of Reviews'] / df_edx['n_enrolled_no_comma']\n",
        "df_edx['ratio(n_rating,n_enrolled)']"
      ]
    },
    {
      "cell_type": "code",
      "execution_count": 335,
      "id": "46f66bba",
      "metadata": {},
      "outputs": [
        {
          "data": {
            "text/plain": [
              "Index(['Title', 'Link', 'Organization', 'Instructor', 'Skills', 'Ratings',\n",
              "       'Review counts', 'Cost', 'Enrolled', 'Level', 'Cerification',\n",
              "       'Completion Time', 'Decription'],\n",
              "      dtype='object')"
            ]
          },
          "execution_count": 335,
          "metadata": {},
          "output_type": "execute_result"
        }
      ],
      "source": [
        "## now do the same for df\n",
        "\n",
        "df.columns"
      ]
    },
    {
      "cell_type": "code",
      "execution_count": 336,
      "id": "a430fda9",
      "metadata": {},
      "outputs": [
        {
          "data": {
            "text/plain": [
              "3064160"
            ]
          },
          "execution_count": 336,
          "metadata": {},
          "output_type": "execute_result"
        }
      ],
      "source": [
        "max_n_enrolled = round(df['Enrolled'].max(),3)\n",
        "max_n_enrolled"
      ]
    },
    {
      "cell_type": "code",
      "execution_count": 337,
      "id": "1a8502d8",
      "metadata": {},
      "outputs": [
        {
          "data": {
            "text/plain": [
              "0"
            ]
          },
          "execution_count": 337,
          "metadata": {},
          "output_type": "execute_result"
        }
      ],
      "source": [
        "min_n_enrolled = round(df['Enrolled'].min(),3)\n",
        "min_n_enrolled"
      ]
    },
    {
      "cell_type": "code",
      "execution_count": 338,
      "id": "9ad65c11",
      "metadata": {},
      "outputs": [
        {
          "data": {
            "text/plain": [
              "0      0.675067\n",
              "1      0.157040\n",
              "2      0.486595\n",
              "3      0.095255\n",
              "4      0.194920\n",
              "         ...   \n",
              "991    0.054299\n",
              "992    0.000000\n",
              "993    0.010793\n",
              "994    0.009070\n",
              "995    0.006149\n",
              "Name: n_enrolled_normalised, Length: 996, dtype: float64"
            ]
          },
          "execution_count": 338,
          "metadata": {},
          "output_type": "execute_result"
        }
      ],
      "source": [
        "df['n_enrolled_normalised'] = df['Enrolled'].apply(lambda x: (x - min_n_enrolled)/(max_n_enrolled - min_n_enrolled))\n",
        "df['n_enrolled_normalised']"
      ]
    },
    {
      "cell_type": "code",
      "execution_count": 339,
      "id": "3b04912f",
      "metadata": {},
      "outputs": [
        {
          "data": {
            "text/plain": [
              "4.68"
            ]
          },
          "execution_count": 339,
          "metadata": {},
          "output_type": "execute_result"
        }
      ],
      "source": [
        "avg_rating = round(df['Ratings'].mean(),3)\n",
        "avg_rating"
      ]
    },
    {
      "cell_type": "code",
      "execution_count": 343,
      "id": "572fe4da",
      "metadata": {},
      "outputs": [
        {
          "data": {
            "text/plain": [
              "2.7"
            ]
          },
          "execution_count": 343,
          "metadata": {},
          "output_type": "execute_result"
        }
      ],
      "source": [
        "max_rating = round(df['Ratings'].max(),3)\n",
        "min_rating = round(df['Ratings'].min(),3)\n",
        "min_rating"
      ]
    },
    {
      "cell_type": "code",
      "execution_count": 344,
      "id": "9560a4c7",
      "metadata": {},
      "outputs": [
        {
          "data": {
            "text/plain": [
              "0      0.052174\n",
              "1      0.052174\n",
              "2      0.052174\n",
              "3     -0.034783\n",
              "4      0.052174\n",
              "         ...   \n",
              "991    0.008696\n",
              "992    0.052174\n",
              "993   -0.208696\n",
              "994    0.095652\n",
              "995   -0.034783\n",
              "Name: rating_normalised, Length: 996, dtype: float64"
            ]
          },
          "execution_count": 344,
          "metadata": {},
          "output_type": "execute_result"
        }
      ],
      "source": [
        "df['rating_normalised'] = df['Ratings'].apply(lambda x: (x - avg_rating)/(max_rating - min_rating))\n",
        "df['rating_normalised']"
      ]
    },
    {
      "cell_type": "code",
      "execution_count": 347,
      "id": "cdd903e6",
      "metadata": {},
      "outputs": [
        {
          "data": {
            "text/plain": [
              "0      0.064525\n",
              "1      0.044816\n",
              "2      0.065615\n",
              "3      0.238259\n",
              "4      0.037057\n",
              "         ...   \n",
              "991    0.045888\n",
              "992    0.000000\n",
              "993    0.030662\n",
              "994    0.018999\n",
              "995    0.017301\n",
              "Name: ratio(n_rating,n_enrolled), Length: 996, dtype: float64"
            ]
          },
          "execution_count": 347,
          "metadata": {},
          "output_type": "execute_result"
        }
      ],
      "source": [
        "df['ratio(n_rating,n_enrolled)'] = df.apply(lambda row: row['Review counts'] / row['Enrolled'] if row['Enrolled']!=0 else 0, axis=1) \n",
        "df['ratio(n_rating,n_enrolled)']"
      ]
    },
    {
      "cell_type": "code",
      "execution_count": 364,
      "id": "25a68222",
      "metadata": {},
      "outputs": [
        {
          "data": {
            "text/plain": [
              "25     0.664845\n",
              "179    1.060195\n",
              "193    0.879545\n",
              "251    0.835211\n",
              "Name: ratio(n_rating,n_enrolled), dtype: float64"
            ]
          },
          "execution_count": 364,
          "metadata": {},
          "output_type": "execute_result"
        }
      ],
      "source": [
        "df['ratio(n_rating,n_enrolled)'].loc[df['ratio(n_rating,n_enrolled)']>=0.5]"
      ]
    },
    {
      "cell_type": "code",
      "execution_count": 369,
      "id": "61432c59",
      "metadata": {},
      "outputs": [
        {
          "name": "stderr",
          "output_type": "stream",
          "text": [
            "C:\\Users\\Admin\\AppData\\Local\\Temp\\ipykernel_12132\\801628533.py:1: SettingWithCopyWarning: \n",
            "A value is trying to be set on a copy of a slice from a DataFrame\n",
            "\n",
            "See the caveats in the documentation: https://pandas.pydata.org/pandas-docs/stable/user_guide/indexing.html#returning-a-view-versus-a-copy\n",
            "  df['ratio(n_rating,n_enrolled)'][251] = 0.5\n"
          ]
        }
      ],
      "source": [
        "# df['ratio(n_rating,n_enrolled)'][251] = 0.5"
      ]
    },
    {
      "cell_type": "code",
      "execution_count": 348,
      "id": "07ce00f6",
      "metadata": {},
      "outputs": [
        {
          "data": {
            "text/plain": [
              "(Index(['Title', 'Link', 'Organization', 'Instructor', 'Skills', 'Ratings',\n",
              "        'Review counts', 'Cost', 'Enrolled', 'Level', 'Cerification',\n",
              "        'Completion Time', 'Decription', 'n_enrolled_normalised',\n",
              "        'rating_normalised', 'ratio(n_rating,n_enrolled)'],\n",
              "       dtype='object'),\n",
              " Index(['title', 'summary', 'n_enrolled', 'course_type', 'institution',\n",
              "        'instructors', 'Level', 'subject', 'language', 'subtitles',\n",
              "        'course_effort', 'course_length', 'price', 'course_description',\n",
              "        'course_syllabus', 'course_url', 'skills', 'Number of Reviews',\n",
              "        'Rating', 'price_rupees', 'n_enrolled_no_comma',\n",
              "        'n_enrolled_normalised', 'ratings_normalised',\n",
              "        'ratio(n_rating,n_enrolled)'],\n",
              "       dtype='object'))"
            ]
          },
          "execution_count": 348,
          "metadata": {},
          "output_type": "execute_result"
        }
      ],
      "source": [
        "df.columns, df_edx.columns\n"
      ]
    },
    {
      "cell_type": "code",
      "execution_count": 384,
      "id": "d2bb04fc",
      "metadata": {},
      "outputs": [
        {
          "data": {
            "text/plain": [
              "0      Designed for those who are new to elearning, t...\n",
              "1                                                    NaN\n",
              "2                                                    NaN\n",
              "3                                                    NaN\n",
              "4                                                    NaN\n",
              "                             ...                        \n",
              "970                                                  NaN\n",
              "971                                                  NaN\n",
              "972    What happens in your brain when you make a dec...\n",
              "973    According to the United Nations, urbanization ...\n",
              "974                                                  NaN\n",
              "Name: description__syllabus, Length: 975, dtype: object"
            ]
          },
          "execution_count": 384,
          "metadata": {},
          "output_type": "execute_result"
        }
      ],
      "source": [
        "df_edx['description__syllabus'] = df_edx['course_description'] +'.' + df_edx['course_syllabus']\n",
        "df_edx['description__syllabus']"
      ]
    },
    {
      "cell_type": "code",
      "execution_count": 386,
      "id": "bae21dd8",
      "metadata": {},
      "outputs": [
        {
          "data": {
            "text/html": [
              "<div>\n",
              "<style scoped>\n",
              "    .dataframe tbody tr th:only-of-type {\n",
              "        vertical-align: middle;\n",
              "    }\n",
              "\n",
              "    .dataframe tbody tr th {\n",
              "        vertical-align: top;\n",
              "    }\n",
              "\n",
              "    .dataframe thead th {\n",
              "        text-align: right;\n",
              "    }\n",
              "</style>\n",
              "<table border=\"1\" class=\"dataframe\">\n",
              "  <thead>\n",
              "    <tr style=\"text-align: right;\">\n",
              "      <th></th>\n",
              "      <th>title</th>\n",
              "      <th>institution</th>\n",
              "      <th>Level</th>\n",
              "      <th>Rating</th>\n",
              "      <th>description__syllabus</th>\n",
              "      <th>skills</th>\n",
              "      <th>course_length</th>\n",
              "      <th>instructors</th>\n",
              "      <th>price_rupees</th>\n",
              "      <th>course_url</th>\n",
              "    </tr>\n",
              "  </thead>\n",
              "  <tbody>\n",
              "    <tr>\n",
              "      <th>0</th>\n",
              "      <td>How to Learn Online</td>\n",
              "      <td>edX</td>\n",
              "      <td>Introductory</td>\n",
              "      <td>4.400</td>\n",
              "      <td>Designed for those who are new to elearning, t...</td>\n",
              "      <td>Learning Design</td>\n",
              "      <td>2 Weeks</td>\n",
              "      <td>Nina Huntemann-Robyn Belair-Ben Piscopo</td>\n",
              "      <td>FREE-Add a Verified Certificate for Rs. 4091.5</td>\n",
              "      <td>https://www.edx.org/course/how-to-learn-online</td>\n",
              "    </tr>\n",
              "    <tr>\n",
              "      <th>1</th>\n",
              "      <td>Programming for Everybody (Getting Started wit...</td>\n",
              "      <td>The University of Michigan</td>\n",
              "      <td>Introductory</td>\n",
              "      <td>4.700</td>\n",
              "      <td>NaN</td>\n",
              "      <td>Python (Programming Language), Web Browsers</td>\n",
              "      <td>7 Weeks</td>\n",
              "      <td>Charles Severance</td>\n",
              "      <td>FREE-Add a Verified Certificate for Rs. 4091.5</td>\n",
              "      <td>https://www.edx.org/course/programming-for-eve...</td>\n",
              "    </tr>\n",
              "    <tr>\n",
              "      <th>2</th>\n",
              "      <td>CS50's Introduction to Computer Science</td>\n",
              "      <td>Harvard University</td>\n",
              "      <td>Introductory</td>\n",
              "      <td>4.522</td>\n",
              "      <td>NaN</td>\n",
              "      <td>Resource Management, Security Software, Crypto...</td>\n",
              "      <td>12 Weeks</td>\n",
              "      <td>David J. Malan-Doug Lloyd-Brian Yu</td>\n",
              "      <td>FREE-Add a Verified Certificate for Rs. 7515.0</td>\n",
              "      <td>https://www.edx.org/course/cs50s-introduction-...</td>\n",
              "    </tr>\n",
              "    <tr>\n",
              "      <th>3</th>\n",
              "      <td>The Analytics Edge</td>\n",
              "      <td>Massachusetts Institute of Technology</td>\n",
              "      <td>Intermediate</td>\n",
              "      <td>4.522</td>\n",
              "      <td>NaN</td>\n",
              "      <td>Statistical Software, Logistic Regression, Lin...</td>\n",
              "      <td>13 Weeks</td>\n",
              "      <td>Dimitris Bertsimas-Allison O'Hair-John Silberh...</td>\n",
              "      <td>FREE-Add a Verified Certificate for Rs. 16616.5</td>\n",
              "      <td>https://www.edx.org/course/the-analytics-edge</td>\n",
              "    </tr>\n",
              "    <tr>\n",
              "      <th>4</th>\n",
              "      <td>Marketing Analytics: Marketing Measurement Str...</td>\n",
              "      <td>University of California, Berkeley</td>\n",
              "      <td>Introductory</td>\n",
              "      <td>4.522</td>\n",
              "      <td>NaN</td>\n",
              "      <td>NaN</td>\n",
              "      <td>4 Weeks</td>\n",
              "      <td>Stephan Sorger</td>\n",
              "      <td>FREE-Add a Verified Certificate for Rs. 20791.5</td>\n",
              "      <td>https://www.edx.org/course/marketing-analytics...</td>\n",
              "    </tr>\n",
              "  </tbody>\n",
              "</table>\n",
              "</div>"
            ],
            "text/plain": [
              "                                               title  \\\n",
              "0                                How to Learn Online   \n",
              "1  Programming for Everybody (Getting Started wit...   \n",
              "2            CS50's Introduction to Computer Science   \n",
              "3                                 The Analytics Edge   \n",
              "4  Marketing Analytics: Marketing Measurement Str...   \n",
              "\n",
              "                             institution         Level  Rating  \\\n",
              "0                                    edX  Introductory   4.400   \n",
              "1             The University of Michigan  Introductory   4.700   \n",
              "2                     Harvard University  Introductory   4.522   \n",
              "3  Massachusetts Institute of Technology  Intermediate   4.522   \n",
              "4     University of California, Berkeley  Introductory   4.522   \n",
              "\n",
              "                               description__syllabus  \\\n",
              "0  Designed for those who are new to elearning, t...   \n",
              "1                                                NaN   \n",
              "2                                                NaN   \n",
              "3                                                NaN   \n",
              "4                                                NaN   \n",
              "\n",
              "                                              skills course_length  \\\n",
              "0                                    Learning Design       2 Weeks   \n",
              "1        Python (Programming Language), Web Browsers       7 Weeks   \n",
              "2  Resource Management, Security Software, Crypto...      12 Weeks   \n",
              "3  Statistical Software, Logistic Regression, Lin...      13 Weeks   \n",
              "4                                                NaN       4 Weeks   \n",
              "\n",
              "                                         instructors  \\\n",
              "0            Nina Huntemann-Robyn Belair-Ben Piscopo   \n",
              "1                                  Charles Severance   \n",
              "2                 David J. Malan-Doug Lloyd-Brian Yu   \n",
              "3  Dimitris Bertsimas-Allison O'Hair-John Silberh...   \n",
              "4                                     Stephan Sorger   \n",
              "\n",
              "                                      price_rupees  \\\n",
              "0   FREE-Add a Verified Certificate for Rs. 4091.5   \n",
              "1   FREE-Add a Verified Certificate for Rs. 4091.5   \n",
              "2   FREE-Add a Verified Certificate for Rs. 7515.0   \n",
              "3  FREE-Add a Verified Certificate for Rs. 16616.5   \n",
              "4  FREE-Add a Verified Certificate for Rs. 20791.5   \n",
              "\n",
              "                                          course_url  \n",
              "0     https://www.edx.org/course/how-to-learn-online  \n",
              "1  https://www.edx.org/course/programming-for-eve...  \n",
              "2  https://www.edx.org/course/cs50s-introduction-...  \n",
              "3      https://www.edx.org/course/the-analytics-edge  \n",
              "4  https://www.edx.org/course/marketing-analytics...  "
            ]
          },
          "execution_count": 386,
          "metadata": {},
          "output_type": "execute_result"
        }
      ],
      "source": [
        "df_edx___mod = df_edx[[\n",
        "    'title', 'institution', 'Level', 'Rating', 'description__syllabus', 'skills', 'course_length', 'instructors', 'price_rupees', 'course_url'\n",
        "]]\n",
        "\n",
        "## add description and syllabus\n",
        "df_edx___mod.head()"
      ]
    },
    {
      "cell_type": "code",
      "execution_count": 388,
      "id": "b46ef59f",
      "metadata": {},
      "outputs": [
        {
          "data": {
            "text/plain": [
              "title                      0\n",
              "institution                0\n",
              "Level                      0\n",
              "Rating                     0\n",
              "description__syllabus    563\n",
              "skills                   145\n",
              "course_length              0\n",
              "instructors                3\n",
              "price_rupees               0\n",
              "course_url                 0\n",
              "dtype: int64"
            ]
          },
          "execution_count": 388,
          "metadata": {},
          "output_type": "execute_result"
        }
      ],
      "source": [
        "df_edx___mod.isnull().sum()"
      ]
    },
    {
      "cell_type": "code",
      "execution_count": 390,
      "id": "7da17371",
      "metadata": {},
      "outputs": [
        {
          "name": "stderr",
          "output_type": "stream",
          "text": [
            "C:\\Users\\Admin\\AppData\\Local\\Temp\\ipykernel_12132\\3827923286.py:1: FutureWarning: A value is trying to be set on a copy of a DataFrame or Series through chained assignment using an inplace method.\n",
            "The behavior will change in pandas 3.0. This inplace method will never work because the intermediate object on which we are setting values always behaves as a copy.\n",
            "\n",
            "For example, when doing 'df[col].method(value, inplace=True)', try using 'df.method({col: value}, inplace=True)' or df[col] = df[col].method(value) instead, to perform the operation inplace on the original object.\n",
            "\n",
            "\n",
            "  df_edx___mod['description__syllabus'].fillna(\"check out the website in given url for more information\", inplace=True)\n",
            "C:\\Users\\Admin\\AppData\\Local\\Temp\\ipykernel_12132\\3827923286.py:1: SettingWithCopyWarning: \n",
            "A value is trying to be set on a copy of a slice from a DataFrame\n",
            "\n",
            "See the caveats in the documentation: https://pandas.pydata.org/pandas-docs/stable/user_guide/indexing.html#returning-a-view-versus-a-copy\n",
            "  df_edx___mod['description__syllabus'].fillna(\"check out the website in given url for more information\", inplace=True)\n",
            "C:\\Users\\Admin\\AppData\\Local\\Temp\\ipykernel_12132\\3827923286.py:2: FutureWarning: A value is trying to be set on a copy of a DataFrame or Series through chained assignment using an inplace method.\n",
            "The behavior will change in pandas 3.0. This inplace method will never work because the intermediate object on which we are setting values always behaves as a copy.\n",
            "\n",
            "For example, when doing 'df[col].method(value, inplace=True)', try using 'df.method({col: value}, inplace=True)' or df[col] = df[col].method(value) instead, to perform the operation inplace on the original object.\n",
            "\n",
            "\n",
            "  df_edx___mod['skills'].fillna(\"check out the website in given url for more information\", inplace=True)\n",
            "C:\\Users\\Admin\\AppData\\Local\\Temp\\ipykernel_12132\\3827923286.py:2: SettingWithCopyWarning: \n",
            "A value is trying to be set on a copy of a slice from a DataFrame\n",
            "\n",
            "See the caveats in the documentation: https://pandas.pydata.org/pandas-docs/stable/user_guide/indexing.html#returning-a-view-versus-a-copy\n",
            "  df_edx___mod['skills'].fillna(\"check out the website in given url for more information\", inplace=True)\n"
          ]
        },
        {
          "data": {
            "text/html": [
              "<div>\n",
              "<style scoped>\n",
              "    .dataframe tbody tr th:only-of-type {\n",
              "        vertical-align: middle;\n",
              "    }\n",
              "\n",
              "    .dataframe tbody tr th {\n",
              "        vertical-align: top;\n",
              "    }\n",
              "\n",
              "    .dataframe thead th {\n",
              "        text-align: right;\n",
              "    }\n",
              "</style>\n",
              "<table border=\"1\" class=\"dataframe\">\n",
              "  <thead>\n",
              "    <tr style=\"text-align: right;\">\n",
              "      <th></th>\n",
              "      <th>title</th>\n",
              "      <th>institution</th>\n",
              "      <th>Level</th>\n",
              "      <th>Rating</th>\n",
              "      <th>description__syllabus</th>\n",
              "      <th>skills</th>\n",
              "      <th>course_length</th>\n",
              "      <th>instructors</th>\n",
              "      <th>price_rupees</th>\n",
              "      <th>course_url</th>\n",
              "    </tr>\n",
              "  </thead>\n",
              "  <tbody>\n",
              "    <tr>\n",
              "      <th>0</th>\n",
              "      <td>How to Learn Online</td>\n",
              "      <td>edX</td>\n",
              "      <td>Introductory</td>\n",
              "      <td>4.400</td>\n",
              "      <td>Designed for those who are new to elearning, t...</td>\n",
              "      <td>Learning Design</td>\n",
              "      <td>2 Weeks</td>\n",
              "      <td>Nina Huntemann-Robyn Belair-Ben Piscopo</td>\n",
              "      <td>FREE-Add a Verified Certificate for Rs. 4091.5</td>\n",
              "      <td>https://www.edx.org/course/how-to-learn-online</td>\n",
              "    </tr>\n",
              "    <tr>\n",
              "      <th>1</th>\n",
              "      <td>Programming for Everybody (Getting Started wit...</td>\n",
              "      <td>The University of Michigan</td>\n",
              "      <td>Introductory</td>\n",
              "      <td>4.700</td>\n",
              "      <td>check out the website in given url for more in...</td>\n",
              "      <td>Python (Programming Language), Web Browsers</td>\n",
              "      <td>7 Weeks</td>\n",
              "      <td>Charles Severance</td>\n",
              "      <td>FREE-Add a Verified Certificate for Rs. 4091.5</td>\n",
              "      <td>https://www.edx.org/course/programming-for-eve...</td>\n",
              "    </tr>\n",
              "    <tr>\n",
              "      <th>2</th>\n",
              "      <td>CS50's Introduction to Computer Science</td>\n",
              "      <td>Harvard University</td>\n",
              "      <td>Introductory</td>\n",
              "      <td>4.522</td>\n",
              "      <td>check out the website in given url for more in...</td>\n",
              "      <td>Resource Management, Security Software, Crypto...</td>\n",
              "      <td>12 Weeks</td>\n",
              "      <td>David J. Malan-Doug Lloyd-Brian Yu</td>\n",
              "      <td>FREE-Add a Verified Certificate for Rs. 7515.0</td>\n",
              "      <td>https://www.edx.org/course/cs50s-introduction-...</td>\n",
              "    </tr>\n",
              "    <tr>\n",
              "      <th>3</th>\n",
              "      <td>The Analytics Edge</td>\n",
              "      <td>Massachusetts Institute of Technology</td>\n",
              "      <td>Intermediate</td>\n",
              "      <td>4.522</td>\n",
              "      <td>check out the website in given url for more in...</td>\n",
              "      <td>Statistical Software, Logistic Regression, Lin...</td>\n",
              "      <td>13 Weeks</td>\n",
              "      <td>Dimitris Bertsimas-Allison O'Hair-John Silberh...</td>\n",
              "      <td>FREE-Add a Verified Certificate for Rs. 16616.5</td>\n",
              "      <td>https://www.edx.org/course/the-analytics-edge</td>\n",
              "    </tr>\n",
              "    <tr>\n",
              "      <th>4</th>\n",
              "      <td>Marketing Analytics: Marketing Measurement Str...</td>\n",
              "      <td>University of California, Berkeley</td>\n",
              "      <td>Introductory</td>\n",
              "      <td>4.522</td>\n",
              "      <td>check out the website in given url for more in...</td>\n",
              "      <td>check out the website in given url for more in...</td>\n",
              "      <td>4 Weeks</td>\n",
              "      <td>Stephan Sorger</td>\n",
              "      <td>FREE-Add a Verified Certificate for Rs. 20791.5</td>\n",
              "      <td>https://www.edx.org/course/marketing-analytics...</td>\n",
              "    </tr>\n",
              "  </tbody>\n",
              "</table>\n",
              "</div>"
            ],
            "text/plain": [
              "                                               title  \\\n",
              "0                                How to Learn Online   \n",
              "1  Programming for Everybody (Getting Started wit...   \n",
              "2            CS50's Introduction to Computer Science   \n",
              "3                                 The Analytics Edge   \n",
              "4  Marketing Analytics: Marketing Measurement Str...   \n",
              "\n",
              "                             institution         Level  Rating  \\\n",
              "0                                    edX  Introductory   4.400   \n",
              "1             The University of Michigan  Introductory   4.700   \n",
              "2                     Harvard University  Introductory   4.522   \n",
              "3  Massachusetts Institute of Technology  Intermediate   4.522   \n",
              "4     University of California, Berkeley  Introductory   4.522   \n",
              "\n",
              "                               description__syllabus  \\\n",
              "0  Designed for those who are new to elearning, t...   \n",
              "1  check out the website in given url for more in...   \n",
              "2  check out the website in given url for more in...   \n",
              "3  check out the website in given url for more in...   \n",
              "4  check out the website in given url for more in...   \n",
              "\n",
              "                                              skills course_length  \\\n",
              "0                                    Learning Design       2 Weeks   \n",
              "1        Python (Programming Language), Web Browsers       7 Weeks   \n",
              "2  Resource Management, Security Software, Crypto...      12 Weeks   \n",
              "3  Statistical Software, Logistic Regression, Lin...      13 Weeks   \n",
              "4  check out the website in given url for more in...       4 Weeks   \n",
              "\n",
              "                                         instructors  \\\n",
              "0            Nina Huntemann-Robyn Belair-Ben Piscopo   \n",
              "1                                  Charles Severance   \n",
              "2                 David J. Malan-Doug Lloyd-Brian Yu   \n",
              "3  Dimitris Bertsimas-Allison O'Hair-John Silberh...   \n",
              "4                                     Stephan Sorger   \n",
              "\n",
              "                                      price_rupees  \\\n",
              "0   FREE-Add a Verified Certificate for Rs. 4091.5   \n",
              "1   FREE-Add a Verified Certificate for Rs. 4091.5   \n",
              "2   FREE-Add a Verified Certificate for Rs. 7515.0   \n",
              "3  FREE-Add a Verified Certificate for Rs. 16616.5   \n",
              "4  FREE-Add a Verified Certificate for Rs. 20791.5   \n",
              "\n",
              "                                          course_url  \n",
              "0     https://www.edx.org/course/how-to-learn-online  \n",
              "1  https://www.edx.org/course/programming-for-eve...  \n",
              "2  https://www.edx.org/course/cs50s-introduction-...  \n",
              "3      https://www.edx.org/course/the-analytics-edge  \n",
              "4  https://www.edx.org/course/marketing-analytics...  "
            ]
          },
          "execution_count": 390,
          "metadata": {},
          "output_type": "execute_result"
        }
      ],
      "source": [
        "df_edx___mod['description__syllabus'].fillna(\"check out the website in given url for more information\", inplace=True)\n",
        "df_edx___mod['skills'].fillna(\"check out the website in given url for more information\", inplace=True)\n",
        "df_edx___mod.head()"
      ]
    },
    {
      "cell_type": "code",
      "execution_count": 392,
      "id": "98cb10d7",
      "metadata": {},
      "outputs": [
        {
          "name": "stderr",
          "output_type": "stream",
          "text": [
            "C:\\Users\\Admin\\AppData\\Local\\Temp\\ipykernel_12132\\1479099033.py:1: FutureWarning: A value is trying to be set on a copy of a DataFrame or Series through chained assignment using an inplace method.\n",
            "The behavior will change in pandas 3.0. This inplace method will never work because the intermediate object on which we are setting values always behaves as a copy.\n",
            "\n",
            "For example, when doing 'df[col].method(value, inplace=True)', try using 'df.method({col: value}, inplace=True)' or df[col] = df[col].method(value) instead, to perform the operation inplace on the original object.\n",
            "\n",
            "\n",
            "  df_edx___mod['instructors'].fillna(\"check out the website in given url for more information\", inplace=True)\n",
            "C:\\Users\\Admin\\AppData\\Local\\Temp\\ipykernel_12132\\1479099033.py:1: SettingWithCopyWarning: \n",
            "A value is trying to be set on a copy of a slice from a DataFrame\n",
            "\n",
            "See the caveats in the documentation: https://pandas.pydata.org/pandas-docs/stable/user_guide/indexing.html#returning-a-view-versus-a-copy\n",
            "  df_edx___mod['instructors'].fillna(\"check out the website in given url for more information\", inplace=True)\n"
          ]
        }
      ],
      "source": [
        "df_edx___mod['instructors'].fillna(\"check out the website in given url for more information\", inplace=True)"
      ]
    },
    {
      "cell_type": "code",
      "execution_count": 393,
      "id": "c9cebc30",
      "metadata": {},
      "outputs": [
        {
          "data": {
            "text/plain": [
              "title                    0\n",
              "institution              0\n",
              "Level                    0\n",
              "Rating                   0\n",
              "description__syllabus    0\n",
              "skills                   0\n",
              "course_length            0\n",
              "instructors              0\n",
              "price_rupees             0\n",
              "course_url               0\n",
              "dtype: int64"
            ]
          },
          "execution_count": 393,
          "metadata": {},
          "output_type": "execute_result"
        }
      ],
      "source": [
        "df_edx___mod.isnull().sum()"
      ]
    },
    {
      "cell_type": "code",
      "execution_count": 387,
      "id": "45eada25",
      "metadata": {},
      "outputs": [
        {
          "data": {
            "text/html": [
              "<div>\n",
              "<style scoped>\n",
              "    .dataframe tbody tr th:only-of-type {\n",
              "        vertical-align: middle;\n",
              "    }\n",
              "\n",
              "    .dataframe tbody tr th {\n",
              "        vertical-align: top;\n",
              "    }\n",
              "\n",
              "    .dataframe thead th {\n",
              "        text-align: right;\n",
              "    }\n",
              "</style>\n",
              "<table border=\"1\" class=\"dataframe\">\n",
              "  <thead>\n",
              "    <tr style=\"text-align: right;\">\n",
              "      <th></th>\n",
              "      <th>Title</th>\n",
              "      <th>Organization</th>\n",
              "      <th>Level</th>\n",
              "      <th>Ratings</th>\n",
              "      <th>Decription</th>\n",
              "      <th>Skills</th>\n",
              "      <th>Completion Time</th>\n",
              "      <th>Instructor</th>\n",
              "      <th>Cost</th>\n",
              "      <th>Link</th>\n",
              "    </tr>\n",
              "  </thead>\n",
              "  <tbody>\n",
              "    <tr>\n",
              "      <th>0</th>\n",
              "      <td>Google Data Analytics</td>\n",
              "      <td>Google</td>\n",
              "      <td>Beginner</td>\n",
              "      <td>4.8</td>\n",
              "      <td>Gain an immersive understanding of the practic...</td>\n",
              "      <td>Data Analysis, R Programming, SQL, Business C...</td>\n",
              "      <td>3 - 6 Months</td>\n",
              "      <td>Google Career Certificates</td>\n",
              "      <td>Free</td>\n",
              "      <td>https://www.coursera.org/professional-certific...</td>\n",
              "    </tr>\n",
              "    <tr>\n",
              "      <th>1</th>\n",
              "      <td>Google Cybersecurity</td>\n",
              "      <td>Google</td>\n",
              "      <td>Beginner</td>\n",
              "      <td>4.8</td>\n",
              "      <td>Understand the importance of cybersecurity pra...</td>\n",
              "      <td>Network Security, Python Programming, Linux, ...</td>\n",
              "      <td>3 - 6 Months</td>\n",
              "      <td>Google Career Certificates</td>\n",
              "      <td>Free</td>\n",
              "      <td>https://www.coursera.org/professional-certific...</td>\n",
              "    </tr>\n",
              "    <tr>\n",
              "      <th>2</th>\n",
              "      <td>Google Project Management:</td>\n",
              "      <td>Google</td>\n",
              "      <td>Beginner</td>\n",
              "      <td>4.8</td>\n",
              "      <td>Gain an immersive understanding of the practic...</td>\n",
              "      <td>Project Management, Strategy and Operations, ...</td>\n",
              "      <td>3 - 6 Months</td>\n",
              "      <td>Google Career Certificates</td>\n",
              "      <td>Free</td>\n",
              "      <td>https://www.coursera.org/professional-certific...</td>\n",
              "    </tr>\n",
              "    <tr>\n",
              "      <th>3</th>\n",
              "      <td>IBM Data Science</td>\n",
              "      <td>IBM</td>\n",
              "      <td>Beginner</td>\n",
              "      <td>4.6</td>\n",
              "      <td>Master the most up-to-date practical skills an...</td>\n",
              "      <td>Python Programming, Data Science, Machine Lea...</td>\n",
              "      <td>3 - 6 Months</td>\n",
              "      <td>Dr. Pooja</td>\n",
              "      <td>Free</td>\n",
              "      <td>https://www.coursera.org/professional-certific...</td>\n",
              "    </tr>\n",
              "    <tr>\n",
              "      <th>4</th>\n",
              "      <td>Google Digital Marketing &amp; E-commerce</td>\n",
              "      <td>Google</td>\n",
              "      <td>Beginner</td>\n",
              "      <td>4.8</td>\n",
              "      <td>Learn the fundamentals of digital marketing an...</td>\n",
              "      <td>Digital Marketing, Marketing, Marketing Manag...</td>\n",
              "      <td>3 - 6 Months</td>\n",
              "      <td>Google Career Certificates</td>\n",
              "      <td>Free</td>\n",
              "      <td>https://www.coursera.org/professional-certific...</td>\n",
              "    </tr>\n",
              "  </tbody>\n",
              "</table>\n",
              "</div>"
            ],
            "text/plain": [
              "                                   Title Organization     Level  Ratings  \\\n",
              "0                  Google Data Analytics       Google  Beginner      4.8   \n",
              "1                   Google Cybersecurity       Google  Beginner      4.8   \n",
              "2             Google Project Management:       Google  Beginner      4.8   \n",
              "3                       IBM Data Science          IBM  Beginner      4.6   \n",
              "4  Google Digital Marketing & E-commerce       Google  Beginner      4.8   \n",
              "\n",
              "                                          Decription  \\\n",
              "0  Gain an immersive understanding of the practic...   \n",
              "1  Understand the importance of cybersecurity pra...   \n",
              "2  Gain an immersive understanding of the practic...   \n",
              "3  Master the most up-to-date practical skills an...   \n",
              "4  Learn the fundamentals of digital marketing an...   \n",
              "\n",
              "                                              Skills Completion Time  \\\n",
              "0   Data Analysis, R Programming, SQL, Business C...    3 - 6 Months   \n",
              "1   Network Security, Python Programming, Linux, ...    3 - 6 Months   \n",
              "2   Project Management, Strategy and Operations, ...    3 - 6 Months   \n",
              "3   Python Programming, Data Science, Machine Lea...    3 - 6 Months   \n",
              "4   Digital Marketing, Marketing, Marketing Manag...    3 - 6 Months   \n",
              "\n",
              "                   Instructor  Cost  \\\n",
              "0  Google Career Certificates  Free   \n",
              "1  Google Career Certificates  Free   \n",
              "2  Google Career Certificates  Free   \n",
              "3                   Dr. Pooja  Free   \n",
              "4  Google Career Certificates  Free   \n",
              "\n",
              "                                                Link  \n",
              "0  https://www.coursera.org/professional-certific...  \n",
              "1  https://www.coursera.org/professional-certific...  \n",
              "2  https://www.coursera.org/professional-certific...  \n",
              "3  https://www.coursera.org/professional-certific...  \n",
              "4  https://www.coursera.org/professional-certific...  "
            ]
          },
          "execution_count": 387,
          "metadata": {},
          "output_type": "execute_result"
        }
      ],
      "source": [
        "df____mod = df[[\n",
        "    'Title','Organization', 'Level', 'Ratings', 'Decription', 'Skills', 'Completion Time', 'Instructor','Cost', 'Link'\n",
        "]]\n",
        "df____mod.head()"
      ]
    },
    {
      "cell_type": "code",
      "execution_count": 395,
      "id": "723e9c22",
      "metadata": {},
      "outputs": [
        {
          "data": {
            "text/plain": [
              "Title                0\n",
              "Organization         0\n",
              "Level                0\n",
              "Ratings              0\n",
              "Decription          91\n",
              "Skills             111\n",
              "Completion Time      0\n",
              "Instructor         244\n",
              "Cost                 0\n",
              "Link                 0\n",
              "dtype: int64"
            ]
          },
          "execution_count": 395,
          "metadata": {},
          "output_type": "execute_result"
        }
      ],
      "source": [
        "df____mod.isnull().sum()"
      ]
    },
    {
      "cell_type": "code",
      "execution_count": 396,
      "metadata": {},
      "outputs": [
        {
          "name": "stderr",
          "output_type": "stream",
          "text": [
            "C:\\Users\\Admin\\AppData\\Local\\Temp\\ipykernel_12132\\3005073492.py:1: FutureWarning: A value is trying to be set on a copy of a DataFrame or Series through chained assignment using an inplace method.\n",
            "The behavior will change in pandas 3.0. This inplace method will never work because the intermediate object on which we are setting values always behaves as a copy.\n",
            "\n",
            "For example, when doing 'df[col].method(value, inplace=True)', try using 'df.method({col: value}, inplace=True)' or df[col] = df[col].method(value) instead, to perform the operation inplace on the original object.\n",
            "\n",
            "\n",
            "  df____mod['Decription'].fillna(\"check out the website in given url for more information\", inplace=True)\n",
            "C:\\Users\\Admin\\AppData\\Local\\Temp\\ipykernel_12132\\3005073492.py:1: SettingWithCopyWarning: \n",
            "A value is trying to be set on a copy of a slice from a DataFrame\n",
            "\n",
            "See the caveats in the documentation: https://pandas.pydata.org/pandas-docs/stable/user_guide/indexing.html#returning-a-view-versus-a-copy\n",
            "  df____mod['Decription'].fillna(\"check out the website in given url for more information\", inplace=True)\n",
            "C:\\Users\\Admin\\AppData\\Local\\Temp\\ipykernel_12132\\3005073492.py:2: FutureWarning: A value is trying to be set on a copy of a DataFrame or Series through chained assignment using an inplace method.\n",
            "The behavior will change in pandas 3.0. This inplace method will never work because the intermediate object on which we are setting values always behaves as a copy.\n",
            "\n",
            "For example, when doing 'df[col].method(value, inplace=True)', try using 'df.method({col: value}, inplace=True)' or df[col] = df[col].method(value) instead, to perform the operation inplace on the original object.\n",
            "\n",
            "\n",
            "  df____mod['Skills'].fillna(\"check out the website in given url for more information\", inplace=True)\n",
            "C:\\Users\\Admin\\AppData\\Local\\Temp\\ipykernel_12132\\3005073492.py:2: SettingWithCopyWarning: \n",
            "A value is trying to be set on a copy of a slice from a DataFrame\n",
            "\n",
            "See the caveats in the documentation: https://pandas.pydata.org/pandas-docs/stable/user_guide/indexing.html#returning-a-view-versus-a-copy\n",
            "  df____mod['Skills'].fillna(\"check out the website in given url for more information\", inplace=True)\n",
            "C:\\Users\\Admin\\AppData\\Local\\Temp\\ipykernel_12132\\3005073492.py:3: FutureWarning: A value is trying to be set on a copy of a DataFrame or Series through chained assignment using an inplace method.\n",
            "The behavior will change in pandas 3.0. This inplace method will never work because the intermediate object on which we are setting values always behaves as a copy.\n",
            "\n",
            "For example, when doing 'df[col].method(value, inplace=True)', try using 'df.method({col: value}, inplace=True)' or df[col] = df[col].method(value) instead, to perform the operation inplace on the original object.\n",
            "\n",
            "\n",
            "  df____mod['Instructor'].fillna(\"check out the website in given url for more information\", inplace=True)\n",
            "C:\\Users\\Admin\\AppData\\Local\\Temp\\ipykernel_12132\\3005073492.py:3: SettingWithCopyWarning: \n",
            "A value is trying to be set on a copy of a slice from a DataFrame\n",
            "\n",
            "See the caveats in the documentation: https://pandas.pydata.org/pandas-docs/stable/user_guide/indexing.html#returning-a-view-versus-a-copy\n",
            "  df____mod['Instructor'].fillna(\"check out the website in given url for more information\", inplace=True)\n"
          ]
        },
        {
          "data": {
            "text/plain": [
              "Title              0\n",
              "Organization       0\n",
              "Level              0\n",
              "Ratings            0\n",
              "Decription         0\n",
              "Skills             0\n",
              "Completion Time    0\n",
              "Instructor         0\n",
              "Cost               0\n",
              "Link               0\n",
              "dtype: int64"
            ]
          },
          "execution_count": 396,
          "metadata": {},
          "output_type": "execute_result"
        }
      ],
      "source": [
        "df____mod['Decription'].fillna(\"check out the website in given url for more information\", inplace=True)\n",
        "df____mod['Skills'].fillna(\"check out the website in given url for more information\", inplace=True)\n",
        "df____mod['Instructor'].fillna(\"check out the website in given url for more information\", inplace=True)\n",
        "df____mod.isnull().sum()"
      ]
    },
    {
      "cell_type": "code",
      "execution_count": 399,
      "id": "a9712783",
      "metadata": {},
      "outputs": [
        {
          "data": {
            "text/plain": [
              "'FREE-Add a Verified Certificate for Rs. 4091.5'"
            ]
          },
          "execution_count": 399,
          "metadata": {},
          "output_type": "execute_result"
        }
      ],
      "source": [
        "df_edx___mod['price_rupees'][0]"
      ]
    },
    {
      "cell_type": "code",
      "execution_count": 397,
      "id": "3d0c54b0",
      "metadata": {},
      "outputs": [
        {
          "data": {
            "text/plain": [
              "Cost\n",
              "Free    996\n",
              "Name: count, dtype: int64"
            ]
          },
          "execution_count": 397,
          "metadata": {},
          "output_type": "execute_result"
        }
      ],
      "source": [
        "df____mod['Cost'].value_counts()"
      ]
    },
    {
      "cell_type": "code",
      "execution_count": 401,
      "id": "5314ad26",
      "metadata": {},
      "outputs": [
        {
          "name": "stderr",
          "output_type": "stream",
          "text": [
            "C:\\Users\\Admin\\AppData\\Local\\Temp\\ipykernel_12132\\2096046979.py:1: SettingWithCopyWarning: \n",
            "A value is trying to be set on a copy of a slice from a DataFrame.\n",
            "Try using .loc[row_indexer,col_indexer] = value instead\n",
            "\n",
            "See the caveats in the documentation: https://pandas.pydata.org/pandas-docs/stable/user_guide/indexing.html#returning-a-view-versus-a-copy\n",
            "  df____mod['Cost'] = [\"FREE-If you want to add a Verified Certificate check out the price in the website\"]*len(df____mod)\n"
          ]
        },
        {
          "data": {
            "text/html": [
              "<div>\n",
              "<style scoped>\n",
              "    .dataframe tbody tr th:only-of-type {\n",
              "        vertical-align: middle;\n",
              "    }\n",
              "\n",
              "    .dataframe tbody tr th {\n",
              "        vertical-align: top;\n",
              "    }\n",
              "\n",
              "    .dataframe thead th {\n",
              "        text-align: right;\n",
              "    }\n",
              "</style>\n",
              "<table border=\"1\" class=\"dataframe\">\n",
              "  <thead>\n",
              "    <tr style=\"text-align: right;\">\n",
              "      <th></th>\n",
              "      <th>Title</th>\n",
              "      <th>Organization</th>\n",
              "      <th>Level</th>\n",
              "      <th>Ratings</th>\n",
              "      <th>Decription</th>\n",
              "      <th>Skills</th>\n",
              "      <th>Completion Time</th>\n",
              "      <th>Instructor</th>\n",
              "      <th>Cost</th>\n",
              "      <th>Link</th>\n",
              "    </tr>\n",
              "  </thead>\n",
              "  <tbody>\n",
              "    <tr>\n",
              "      <th>0</th>\n",
              "      <td>Google Data Analytics</td>\n",
              "      <td>Google</td>\n",
              "      <td>Beginner</td>\n",
              "      <td>4.8</td>\n",
              "      <td>Gain an immersive understanding of the practic...</td>\n",
              "      <td>Data Analysis, R Programming, SQL, Business C...</td>\n",
              "      <td>3 - 6 Months</td>\n",
              "      <td>Google Career Certificates</td>\n",
              "      <td>FREE-If you want to add a Verified Certificate...</td>\n",
              "      <td>https://www.coursera.org/professional-certific...</td>\n",
              "    </tr>\n",
              "    <tr>\n",
              "      <th>1</th>\n",
              "      <td>Google Cybersecurity</td>\n",
              "      <td>Google</td>\n",
              "      <td>Beginner</td>\n",
              "      <td>4.8</td>\n",
              "      <td>Understand the importance of cybersecurity pra...</td>\n",
              "      <td>Network Security, Python Programming, Linux, ...</td>\n",
              "      <td>3 - 6 Months</td>\n",
              "      <td>Google Career Certificates</td>\n",
              "      <td>FREE-If you want to add a Verified Certificate...</td>\n",
              "      <td>https://www.coursera.org/professional-certific...</td>\n",
              "    </tr>\n",
              "    <tr>\n",
              "      <th>2</th>\n",
              "      <td>Google Project Management:</td>\n",
              "      <td>Google</td>\n",
              "      <td>Beginner</td>\n",
              "      <td>4.8</td>\n",
              "      <td>Gain an immersive understanding of the practic...</td>\n",
              "      <td>Project Management, Strategy and Operations, ...</td>\n",
              "      <td>3 - 6 Months</td>\n",
              "      <td>Google Career Certificates</td>\n",
              "      <td>FREE-If you want to add a Verified Certificate...</td>\n",
              "      <td>https://www.coursera.org/professional-certific...</td>\n",
              "    </tr>\n",
              "    <tr>\n",
              "      <th>3</th>\n",
              "      <td>IBM Data Science</td>\n",
              "      <td>IBM</td>\n",
              "      <td>Beginner</td>\n",
              "      <td>4.6</td>\n",
              "      <td>Master the most up-to-date practical skills an...</td>\n",
              "      <td>Python Programming, Data Science, Machine Lea...</td>\n",
              "      <td>3 - 6 Months</td>\n",
              "      <td>Dr. Pooja</td>\n",
              "      <td>FREE-If you want to add a Verified Certificate...</td>\n",
              "      <td>https://www.coursera.org/professional-certific...</td>\n",
              "    </tr>\n",
              "    <tr>\n",
              "      <th>4</th>\n",
              "      <td>Google Digital Marketing &amp; E-commerce</td>\n",
              "      <td>Google</td>\n",
              "      <td>Beginner</td>\n",
              "      <td>4.8</td>\n",
              "      <td>Learn the fundamentals of digital marketing an...</td>\n",
              "      <td>Digital Marketing, Marketing, Marketing Manag...</td>\n",
              "      <td>3 - 6 Months</td>\n",
              "      <td>Google Career Certificates</td>\n",
              "      <td>FREE-If you want to add a Verified Certificate...</td>\n",
              "      <td>https://www.coursera.org/professional-certific...</td>\n",
              "    </tr>\n",
              "  </tbody>\n",
              "</table>\n",
              "</div>"
            ],
            "text/plain": [
              "                                   Title Organization     Level  Ratings  \\\n",
              "0                  Google Data Analytics       Google  Beginner      4.8   \n",
              "1                   Google Cybersecurity       Google  Beginner      4.8   \n",
              "2             Google Project Management:       Google  Beginner      4.8   \n",
              "3                       IBM Data Science          IBM  Beginner      4.6   \n",
              "4  Google Digital Marketing & E-commerce       Google  Beginner      4.8   \n",
              "\n",
              "                                          Decription  \\\n",
              "0  Gain an immersive understanding of the practic...   \n",
              "1  Understand the importance of cybersecurity pra...   \n",
              "2  Gain an immersive understanding of the practic...   \n",
              "3  Master the most up-to-date practical skills an...   \n",
              "4  Learn the fundamentals of digital marketing an...   \n",
              "\n",
              "                                              Skills Completion Time  \\\n",
              "0   Data Analysis, R Programming, SQL, Business C...    3 - 6 Months   \n",
              "1   Network Security, Python Programming, Linux, ...    3 - 6 Months   \n",
              "2   Project Management, Strategy and Operations, ...    3 - 6 Months   \n",
              "3   Python Programming, Data Science, Machine Lea...    3 - 6 Months   \n",
              "4   Digital Marketing, Marketing, Marketing Manag...    3 - 6 Months   \n",
              "\n",
              "                   Instructor  \\\n",
              "0  Google Career Certificates   \n",
              "1  Google Career Certificates   \n",
              "2  Google Career Certificates   \n",
              "3                   Dr. Pooja   \n",
              "4  Google Career Certificates   \n",
              "\n",
              "                                                Cost  \\\n",
              "0  FREE-If you want to add a Verified Certificate...   \n",
              "1  FREE-If you want to add a Verified Certificate...   \n",
              "2  FREE-If you want to add a Verified Certificate...   \n",
              "3  FREE-If you want to add a Verified Certificate...   \n",
              "4  FREE-If you want to add a Verified Certificate...   \n",
              "\n",
              "                                                Link  \n",
              "0  https://www.coursera.org/professional-certific...  \n",
              "1  https://www.coursera.org/professional-certific...  \n",
              "2  https://www.coursera.org/professional-certific...  \n",
              "3  https://www.coursera.org/professional-certific...  \n",
              "4  https://www.coursera.org/professional-certific...  "
            ]
          },
          "execution_count": 401,
          "metadata": {},
          "output_type": "execute_result"
        }
      ],
      "source": [
        "df____mod['Cost'] = [\"FREE-If you want to add a Verified Certificate check out the price in the website\"]*len(df____mod)\n",
        "df____mod.head()"
      ]
    },
    {
      "cell_type": "code",
      "execution_count": 405,
      "id": "40879bdf",
      "metadata": {},
      "outputs": [],
      "source": [
        "df_edx___mod.columns = ['Title','Organization', 'Level', 'Ratings', 'Decription', 'Skills', 'Completion Time', 'Instructor','Cost', 'Link'] ## assign same cols to edx data"
      ]
    },
    {
      "cell_type": "code",
      "execution_count": 406,
      "id": "355d5791",
      "metadata": {},
      "outputs": [],
      "source": [
        "df____mod.to_csv(\"coursera_main_features.csv\",index=False)\n",
        "df_edx___mod.to_csv(\"edx_main_features.csv\",index=False)"
      ]
    },
    {
      "cell_type": "code",
      "execution_count": 407,
      "id": "13617070",
      "metadata": {},
      "outputs": [
        {
          "data": {
            "text/plain": [
              "(1971, 10)"
            ]
          },
          "execution_count": 407,
          "metadata": {},
          "output_type": "execute_result"
        }
      ],
      "source": [
        "### concatenate both df\n",
        "df_master___mod = pd.concat((df____mod, df_edx___mod))\n",
        "df_master___mod.shape"
      ]
    },
    {
      "cell_type": "code",
      "execution_count": 408,
      "id": "6a3944b5",
      "metadata": {},
      "outputs": [
        {
          "data": {
            "text/html": [
              "<div>\n",
              "<style scoped>\n",
              "    .dataframe tbody tr th:only-of-type {\n",
              "        vertical-align: middle;\n",
              "    }\n",
              "\n",
              "    .dataframe tbody tr th {\n",
              "        vertical-align: top;\n",
              "    }\n",
              "\n",
              "    .dataframe thead th {\n",
              "        text-align: right;\n",
              "    }\n",
              "</style>\n",
              "<table border=\"1\" class=\"dataframe\">\n",
              "  <thead>\n",
              "    <tr style=\"text-align: right;\">\n",
              "      <th></th>\n",
              "      <th>Title</th>\n",
              "      <th>Organization</th>\n",
              "      <th>Level</th>\n",
              "      <th>Ratings</th>\n",
              "      <th>Decription</th>\n",
              "      <th>Skills</th>\n",
              "      <th>Completion Time</th>\n",
              "      <th>Instructor</th>\n",
              "      <th>Cost</th>\n",
              "      <th>Link</th>\n",
              "    </tr>\n",
              "  </thead>\n",
              "  <tbody>\n",
              "    <tr>\n",
              "      <th>0</th>\n",
              "      <td>Google Data Analytics</td>\n",
              "      <td>Google</td>\n",
              "      <td>Beginner</td>\n",
              "      <td>4.8</td>\n",
              "      <td>Gain an immersive understanding of the practic...</td>\n",
              "      <td>Data Analysis, R Programming, SQL, Business C...</td>\n",
              "      <td>3 - 6 Months</td>\n",
              "      <td>Google Career Certificates</td>\n",
              "      <td>FREE-If you want to add a Verified Certificate...</td>\n",
              "      <td>https://www.coursera.org/professional-certific...</td>\n",
              "    </tr>\n",
              "    <tr>\n",
              "      <th>1</th>\n",
              "      <td>Google Cybersecurity</td>\n",
              "      <td>Google</td>\n",
              "      <td>Beginner</td>\n",
              "      <td>4.8</td>\n",
              "      <td>Understand the importance of cybersecurity pra...</td>\n",
              "      <td>Network Security, Python Programming, Linux, ...</td>\n",
              "      <td>3 - 6 Months</td>\n",
              "      <td>Google Career Certificates</td>\n",
              "      <td>FREE-If you want to add a Verified Certificate...</td>\n",
              "      <td>https://www.coursera.org/professional-certific...</td>\n",
              "    </tr>\n",
              "    <tr>\n",
              "      <th>2</th>\n",
              "      <td>Google Project Management:</td>\n",
              "      <td>Google</td>\n",
              "      <td>Beginner</td>\n",
              "      <td>4.8</td>\n",
              "      <td>Gain an immersive understanding of the practic...</td>\n",
              "      <td>Project Management, Strategy and Operations, ...</td>\n",
              "      <td>3 - 6 Months</td>\n",
              "      <td>Google Career Certificates</td>\n",
              "      <td>FREE-If you want to add a Verified Certificate...</td>\n",
              "      <td>https://www.coursera.org/professional-certific...</td>\n",
              "    </tr>\n",
              "    <tr>\n",
              "      <th>3</th>\n",
              "      <td>IBM Data Science</td>\n",
              "      <td>IBM</td>\n",
              "      <td>Beginner</td>\n",
              "      <td>4.6</td>\n",
              "      <td>Master the most up-to-date practical skills an...</td>\n",
              "      <td>Python Programming, Data Science, Machine Lea...</td>\n",
              "      <td>3 - 6 Months</td>\n",
              "      <td>Dr. Pooja</td>\n",
              "      <td>FREE-If you want to add a Verified Certificate...</td>\n",
              "      <td>https://www.coursera.org/professional-certific...</td>\n",
              "    </tr>\n",
              "    <tr>\n",
              "      <th>4</th>\n",
              "      <td>Google Digital Marketing &amp; E-commerce</td>\n",
              "      <td>Google</td>\n",
              "      <td>Beginner</td>\n",
              "      <td>4.8</td>\n",
              "      <td>Learn the fundamentals of digital marketing an...</td>\n",
              "      <td>Digital Marketing, Marketing, Marketing Manag...</td>\n",
              "      <td>3 - 6 Months</td>\n",
              "      <td>Google Career Certificates</td>\n",
              "      <td>FREE-If you want to add a Verified Certificate...</td>\n",
              "      <td>https://www.coursera.org/professional-certific...</td>\n",
              "    </tr>\n",
              "  </tbody>\n",
              "</table>\n",
              "</div>"
            ],
            "text/plain": [
              "                                   Title Organization     Level  Ratings  \\\n",
              "0                  Google Data Analytics       Google  Beginner      4.8   \n",
              "1                   Google Cybersecurity       Google  Beginner      4.8   \n",
              "2             Google Project Management:       Google  Beginner      4.8   \n",
              "3                       IBM Data Science          IBM  Beginner      4.6   \n",
              "4  Google Digital Marketing & E-commerce       Google  Beginner      4.8   \n",
              "\n",
              "                                          Decription  \\\n",
              "0  Gain an immersive understanding of the practic...   \n",
              "1  Understand the importance of cybersecurity pra...   \n",
              "2  Gain an immersive understanding of the practic...   \n",
              "3  Master the most up-to-date practical skills an...   \n",
              "4  Learn the fundamentals of digital marketing an...   \n",
              "\n",
              "                                              Skills Completion Time  \\\n",
              "0   Data Analysis, R Programming, SQL, Business C...    3 - 6 Months   \n",
              "1   Network Security, Python Programming, Linux, ...    3 - 6 Months   \n",
              "2   Project Management, Strategy and Operations, ...    3 - 6 Months   \n",
              "3   Python Programming, Data Science, Machine Lea...    3 - 6 Months   \n",
              "4   Digital Marketing, Marketing, Marketing Manag...    3 - 6 Months   \n",
              "\n",
              "                   Instructor  \\\n",
              "0  Google Career Certificates   \n",
              "1  Google Career Certificates   \n",
              "2  Google Career Certificates   \n",
              "3                   Dr. Pooja   \n",
              "4  Google Career Certificates   \n",
              "\n",
              "                                                Cost  \\\n",
              "0  FREE-If you want to add a Verified Certificate...   \n",
              "1  FREE-If you want to add a Verified Certificate...   \n",
              "2  FREE-If you want to add a Verified Certificate...   \n",
              "3  FREE-If you want to add a Verified Certificate...   \n",
              "4  FREE-If you want to add a Verified Certificate...   \n",
              "\n",
              "                                                Link  \n",
              "0  https://www.coursera.org/professional-certific...  \n",
              "1  https://www.coursera.org/professional-certific...  \n",
              "2  https://www.coursera.org/professional-certific...  \n",
              "3  https://www.coursera.org/professional-certific...  \n",
              "4  https://www.coursera.org/professional-certific...  "
            ]
          },
          "execution_count": 408,
          "metadata": {},
          "output_type": "execute_result"
        }
      ],
      "source": [
        "df_master___mod.head()"
      ]
    },
    {
      "cell_type": "code",
      "execution_count": 414,
      "id": "b99cf8d3",
      "metadata": {},
      "outputs": [
        {
          "data": {
            "text/plain": [
              "Completion Time\n",
              "3 - 6 Months         991\n",
              "4 Weeks              194\n",
              "6 Weeks              187\n",
              "5 Weeks              148\n",
              "7 Weeks               92\n",
              "8 Weeks               84\n",
              "10 Weeks              83\n",
              "12 Weeks              36\n",
              "3 Weeks               35\n",
              "2 Weeks               20\n",
              "9 Weeks               20\n",
              "15 Weeks              18\n",
              "14 Weeks              17\n",
              "16 Weeks              14\n",
              "1 Weeks                8\n",
              "13 Weeks               7\n",
              "11 Weeks               7\n",
              "Less Than 2 Hours      5\n",
              "18 Weeks               4\n",
              "17 Weeks               1\n",
              "Name: count, dtype: int64"
            ]
          },
          "execution_count": 414,
          "metadata": {},
          "output_type": "execute_result"
        }
      ],
      "source": [
        "df_master___mod['Completion Time'].value_counts()"
      ]
    },
    {
      "cell_type": "code",
      "execution_count": 409,
      "id": "82ccc4e0",
      "metadata": {},
      "outputs": [],
      "source": [
        "df_master___mod.to_csv(\"coursera_edx_main_features.csv\",index=False)"
      ]
    },
    {
      "cell_type": "code",
      "execution_count": 370,
      "id": "dce4a7b6",
      "metadata": {},
      "outputs": [
        {
          "data": {
            "text/html": [
              "<div>\n",
              "<style scoped>\n",
              "    .dataframe tbody tr th:only-of-type {\n",
              "        vertical-align: middle;\n",
              "    }\n",
              "\n",
              "    .dataframe tbody tr th {\n",
              "        vertical-align: top;\n",
              "    }\n",
              "\n",
              "    .dataframe thead th {\n",
              "        text-align: right;\n",
              "    }\n",
              "</style>\n",
              "<table border=\"1\" class=\"dataframe\">\n",
              "  <thead>\n",
              "    <tr style=\"text-align: right;\">\n",
              "      <th></th>\n",
              "      <th>title</th>\n",
              "      <th>n_enrolled_normalised</th>\n",
              "      <th>ratings_normalised</th>\n",
              "      <th>ratio(n_rating,n_enrolled)</th>\n",
              "      <th>id</th>\n",
              "    </tr>\n",
              "  </thead>\n",
              "  <tbody>\n",
              "    <tr>\n",
              "      <th>0</th>\n",
              "      <td>Google Data Analytics</td>\n",
              "      <td>0.675067</td>\n",
              "      <td>0.052174</td>\n",
              "      <td>0.064525</td>\n",
              "      <td>0</td>\n",
              "    </tr>\n",
              "    <tr>\n",
              "      <th>1</th>\n",
              "      <td>Google Cybersecurity</td>\n",
              "      <td>0.157040</td>\n",
              "      <td>0.052174</td>\n",
              "      <td>0.044816</td>\n",
              "      <td>1</td>\n",
              "    </tr>\n",
              "    <tr>\n",
              "      <th>2</th>\n",
              "      <td>Google Project Management:</td>\n",
              "      <td>0.486595</td>\n",
              "      <td>0.052174</td>\n",
              "      <td>0.065615</td>\n",
              "      <td>2</td>\n",
              "    </tr>\n",
              "    <tr>\n",
              "      <th>3</th>\n",
              "      <td>IBM Data Science</td>\n",
              "      <td>0.095255</td>\n",
              "      <td>-0.034783</td>\n",
              "      <td>0.238259</td>\n",
              "      <td>3</td>\n",
              "    </tr>\n",
              "    <tr>\n",
              "      <th>4</th>\n",
              "      <td>Google Digital Marketing &amp; E-commerce</td>\n",
              "      <td>0.194920</td>\n",
              "      <td>0.052174</td>\n",
              "      <td>0.037057</td>\n",
              "      <td>4</td>\n",
              "    </tr>\n",
              "  </tbody>\n",
              "</table>\n",
              "</div>"
            ],
            "text/plain": [
              "                                   title  n_enrolled_normalised  \\\n",
              "0                  Google Data Analytics               0.675067   \n",
              "1                   Google Cybersecurity               0.157040   \n",
              "2             Google Project Management:               0.486595   \n",
              "3                       IBM Data Science               0.095255   \n",
              "4  Google Digital Marketing & E-commerce               0.194920   \n",
              "\n",
              "   ratings_normalised  ratio(n_rating,n_enrolled)  id  \n",
              "0            0.052174                    0.064525   0  \n",
              "1            0.052174                    0.044816   1  \n",
              "2            0.052174                    0.065615   2  \n",
              "3           -0.034783                    0.238259   3  \n",
              "4            0.052174                    0.037057   4  "
            ]
          },
          "execution_count": 370,
          "metadata": {},
          "output_type": "execute_result"
        }
      ],
      "source": [
        "df_mod = df[[\n",
        "            'Title', 'n_enrolled_normalised',\n",
        "            'rating_normalised', 'ratio(n_rating,n_enrolled)'\n",
        "            ]]\n",
        "\n",
        "df_edx_mod = df_edx[[\n",
        "                    'title', 'n_enrolled_normalised', 'ratings_normalised',\n",
        "                    'ratio(n_rating,n_enrolled)'\n",
        "                    ]]\n",
        "\n",
        "df_mod.columns = ['title', 'n_enrolled_normalised', 'ratings_normalised',\n",
        "                    'ratio(n_rating,n_enrolled)']\n",
        "\n",
        "df_concat_mod = pd.concat((df_mod,df_edx_mod))\n",
        "df_concat_mod['id'] = df_concat_mod.index\n",
        "df_concat_mod.head()\n",
        "\n"
      ]
    },
    {
      "cell_type": "code",
      "execution_count": 371,
      "id": "15918ccb",
      "metadata": {},
      "outputs": [],
      "source": [
        "df_concat_mod.to_csv(\"title,n_enrolled_normalised,ratings_normalised,ratio(n_rating,n_enrolled),id.csv\", index=False)"
      ]
    },
    {
      "cell_type": "code",
      "execution_count": 372,
      "id": "87c8d63b",
      "metadata": {},
      "outputs": [
        {
          "data": {
            "text/html": [
              "<div>\n",
              "<style scoped>\n",
              "    .dataframe tbody tr th:only-of-type {\n",
              "        vertical-align: middle;\n",
              "    }\n",
              "\n",
              "    .dataframe tbody tr th {\n",
              "        vertical-align: top;\n",
              "    }\n",
              "\n",
              "    .dataframe thead th {\n",
              "        text-align: right;\n",
              "    }\n",
              "</style>\n",
              "<table border=\"1\" class=\"dataframe\">\n",
              "  <thead>\n",
              "    <tr style=\"text-align: right;\">\n",
              "      <th></th>\n",
              "      <th>title</th>\n",
              "      <th>n_enrolled_normalised</th>\n",
              "      <th>ratings_normalised</th>\n",
              "      <th>ratio(n_rating,n_enrolled)</th>\n",
              "      <th>id</th>\n",
              "    </tr>\n",
              "  </thead>\n",
              "  <tbody>\n",
              "    <tr>\n",
              "      <th>0</th>\n",
              "      <td>Google Data Analytics</td>\n",
              "      <td>0.675067</td>\n",
              "      <td>0.052174</td>\n",
              "      <td>0.064525</td>\n",
              "      <td>0</td>\n",
              "    </tr>\n",
              "    <tr>\n",
              "      <th>1</th>\n",
              "      <td>Google Cybersecurity</td>\n",
              "      <td>0.157040</td>\n",
              "      <td>0.052174</td>\n",
              "      <td>0.044816</td>\n",
              "      <td>1</td>\n",
              "    </tr>\n",
              "    <tr>\n",
              "      <th>2</th>\n",
              "      <td>Google Project Management:</td>\n",
              "      <td>0.486595</td>\n",
              "      <td>0.052174</td>\n",
              "      <td>0.065615</td>\n",
              "      <td>2</td>\n",
              "    </tr>\n",
              "    <tr>\n",
              "      <th>3</th>\n",
              "      <td>IBM Data Science</td>\n",
              "      <td>0.095255</td>\n",
              "      <td>-0.034783</td>\n",
              "      <td>0.238259</td>\n",
              "      <td>3</td>\n",
              "    </tr>\n",
              "    <tr>\n",
              "      <th>4</th>\n",
              "      <td>Google Digital Marketing &amp; E-commerce</td>\n",
              "      <td>0.194920</td>\n",
              "      <td>0.052174</td>\n",
              "      <td>0.037057</td>\n",
              "      <td>4</td>\n",
              "    </tr>\n",
              "  </tbody>\n",
              "</table>\n",
              "</div>"
            ],
            "text/plain": [
              "                                   title  n_enrolled_normalised  \\\n",
              "0                  Google Data Analytics               0.675067   \n",
              "1                   Google Cybersecurity               0.157040   \n",
              "2             Google Project Management:               0.486595   \n",
              "3                       IBM Data Science               0.095255   \n",
              "4  Google Digital Marketing & E-commerce               0.194920   \n",
              "\n",
              "   ratings_normalised  ratio(n_rating,n_enrolled)  id  \n",
              "0            0.052174                    0.064525   0  \n",
              "1            0.052174                    0.044816   1  \n",
              "2            0.052174                    0.065615   2  \n",
              "3           -0.034783                    0.238259   3  \n",
              "4            0.052174                    0.037057   4  "
            ]
          },
          "execution_count": 372,
          "metadata": {},
          "output_type": "execute_result"
        }
      ],
      "source": [
        "df_concat_mod.head()"
      ]
    },
    {
      "cell_type": "code",
      "execution_count": 373,
      "id": "0796eb33",
      "metadata": {},
      "outputs": [
        {
          "data": {
            "text/plain": [
              "count    1971.000000\n",
              "mean       -0.000066\n",
              "std         0.099554\n",
              "min        -0.860870\n",
              "25%        -0.012222\n",
              "50%         0.000000\n",
              "75%         0.052174\n",
              "max         0.265556\n",
              "Name: ratings_normalised, dtype: float64"
            ]
          },
          "execution_count": 373,
          "metadata": {},
          "output_type": "execute_result"
        }
      ],
      "source": [
        "df_concat_mod['ratings_normalised'].describe()"
      ]
    },
    {
      "cell_type": "code",
      "execution_count": 374,
      "id": "d38d287f",
      "metadata": {},
      "outputs": [
        {
          "data": {
            "text/plain": [
              "count    1971.000000\n",
              "mean        0.024194\n",
              "std         0.064375\n",
              "min         0.000000\n",
              "25%         0.000830\n",
              "50%         0.005996\n",
              "75%         0.020621\n",
              "max         1.000000\n",
              "Name: n_enrolled_normalised, dtype: float64"
            ]
          },
          "execution_count": 374,
          "metadata": {},
          "output_type": "execute_result"
        }
      ],
      "source": [
        "df_concat_mod['n_enrolled_normalised'].describe()"
      ]
    },
    {
      "cell_type": "code",
      "execution_count": 375,
      "id": "acc0adcb",
      "metadata": {},
      "outputs": [
        {
          "data": {
            "text/plain": [
              "count    1971.000000\n",
              "mean        0.019793\n",
              "std         0.039855\n",
              "min         0.000000\n",
              "25%         0.000717\n",
              "50%         0.006500\n",
              "75%         0.022925\n",
              "max         0.500000\n",
              "Name: ratio(n_rating,n_enrolled), dtype: float64"
            ]
          },
          "execution_count": 375,
          "metadata": {},
          "output_type": "execute_result"
        }
      ],
      "source": [
        "df_concat_mod['ratio(n_rating,n_enrolled)'].describe()"
      ]
    },
    {
      "cell_type": "markdown",
      "id": "77b03a20",
      "metadata": {},
      "source": [
        "# Master df"
      ]
    },
    {
      "cell_type": "code",
      "execution_count": null,
      "id": "d0160707",
      "metadata": {},
      "outputs": [],
      "source": [
        "df_mod = df[[\n",
        "            'Title', 'n_enrolled_normalised',\n",
        "            'rating_normalised', 'ratio(n_rating,n_enrolled)'\n",
        "            ]]\n",
        "\n",
        "df_edx_mod = df_edx[[\n",
        "                    'title', 'n_enrolled_normalised', 'ratings_normalised',\n",
        "                    'ratio(n_rating,n_enrolled)'\n",
        "                    ]]\n",
        "\n",
        "df_mod.columns = ['title', 'n_enrolled_normalised', 'ratings_normalised',\n",
        "                    'ratio(n_rating,n_enrolled)']\n",
        "\n",
        "df_concat_mod = pd.concat((df_mod,df_edx_mod))\n",
        "\n",
        "df_concat_mod['id'] = df_concat_mod.index\n",
        "df_concat_mod.head()\n",
        "\n"
      ]
    },
    {
      "cell_type": "code",
      "execution_count": 411,
      "id": "13446dba",
      "metadata": {},
      "outputs": [
        {
          "data": {
            "text/plain": [
              "300"
            ]
          },
          "execution_count": 411,
          "metadata": {},
          "output_type": "execute_result"
        }
      ],
      "source": [
        "len(\"Understand the value of data and how the rapid growth of technologies such as artificial intelligence and cloud computing are transforming business. ,Understand the value of data and how the rapid growth of technologies such as artificial intelligence and cloud computing are transforming business. ,\")"
      ]
    },
    {
      "cell_type": "code",
      "execution_count": 412,
      "metadata": {},
      "outputs": [
        {
          "name": "stdout",
          "output_type": "stream",
          "text": [
            "😀\n"
          ]
        }
      ],
      "source": [
        "print(\"\\U0001F600\")"
      ]
    },
    {
      "cell_type": "code",
      "execution_count": null,
      "id": "ccc2ca27",
      "metadata": {},
      "outputs": [],
      "source": []
    },
    {
      "cell_type": "code",
      "execution_count": null,
      "id": "56175609",
      "metadata": {},
      "outputs": [],
      "source": []
    },
    {
      "cell_type": "code",
      "execution_count": null,
      "metadata": {},
      "outputs": [],
      "source": []
    },
    {
      "cell_type": "code",
      "execution_count": 427,
      "metadata": {},
      "outputs": [],
      "source": [
        "df__trial.reset_index(drop=True, inplace=True)\n",
        "df__trial['id'] = df__trial.index"
      ]
    },
    {
      "cell_type": "code",
      "execution_count": 431,
      "id": "3e16f75f",
      "metadata": {},
      "outputs": [],
      "source": [
        "df__trial.to_csv(\"title,n_enrolled_normalised,ratings_normalised,ratio(n_rating,n_enrolled),id.csv\", index=False)"
      ]
    },
    {
      "cell_type": "code",
      "execution_count": 432,
      "metadata": {},
      "outputs": [],
      "source": [
        "import pandas as pd\n",
        "id2normalised_rating = {}\n",
        "id2_normalised_n_enrolled  = {}\n",
        "id2_chi_ratio = {}\n",
        "df__trial = pd.read_csv(\"title,n_enrolled_normalised,ratings_normalised,ratio(n_rating,n_enrolled),id.csv\")\n",
        "for title, n_enrolled_normalised, ratings_normalised,chi_ratio, id in df__trial.itertuples(index=False):\n",
        "    id2_normalised_n_enrolled[id] = n_enrolled_normalised\n",
        "    id2normalised_rating[id] = ratings_normalised\n",
        "    id2_chi_ratio[id] = chi_ratio"
      ]
    },
    {
      "cell_type": "code",
      "execution_count": 433,
      "id": "59ed8e2b",
      "metadata": {},
      "outputs": [
        {
          "data": {
            "text/plain": [
              "id\n",
              "0       1\n",
              "1324    1\n",
              "1322    1\n",
              "1321    1\n",
              "1320    1\n",
              "       ..\n",
              "652     1\n",
              "651     1\n",
              "650     1\n",
              "649     1\n",
              "1970    1\n",
              "Name: count, Length: 1971, dtype: int64"
            ]
          },
          "execution_count": 433,
          "metadata": {},
          "output_type": "execute_result"
        }
      ],
      "source": [
        "df__trial['id'].value_counts()"
      ]
    },
    {
      "cell_type": "code",
      "execution_count": 434,
      "id": "89bf8de0",
      "metadata": {},
      "outputs": [
        {
          "data": {
            "text/plain": [
              "Index(['title', 'n_enrolled_normalised', 'ratings_normalised',\n",
              "       'ratio(n_rating,n_enrolled)', 'id'],\n",
              "      dtype='object')"
            ]
          },
          "execution_count": 434,
          "metadata": {},
          "output_type": "execute_result"
        }
      ],
      "source": [
        "df__trial.columns"
      ]
    },
    {
      "cell_type": "code",
      "execution_count": 435,
      "id": "97b36949",
      "metadata": {},
      "outputs": [
        {
          "data": {
            "text/html": [
              "<div>\n",
              "<style scoped>\n",
              "    .dataframe tbody tr th:only-of-type {\n",
              "        vertical-align: middle;\n",
              "    }\n",
              "\n",
              "    .dataframe tbody tr th {\n",
              "        vertical-align: top;\n",
              "    }\n",
              "\n",
              "    .dataframe thead th {\n",
              "        text-align: right;\n",
              "    }\n",
              "</style>\n",
              "<table border=\"1\" class=\"dataframe\">\n",
              "  <thead>\n",
              "    <tr style=\"text-align: right;\">\n",
              "      <th></th>\n",
              "      <th>title</th>\n",
              "      <th>n_enrolled_normalised</th>\n",
              "      <th>ratings_normalised</th>\n",
              "      <th>ratio(n_rating,n_enrolled)</th>\n",
              "      <th>id</th>\n",
              "    </tr>\n",
              "  </thead>\n",
              "  <tbody>\n",
              "    <tr>\n",
              "      <th>0</th>\n",
              "      <td>Google Data Analytics</td>\n",
              "      <td>0.675067</td>\n",
              "      <td>0.052174</td>\n",
              "      <td>0.064525</td>\n",
              "      <td>0</td>\n",
              "    </tr>\n",
              "    <tr>\n",
              "      <th>1</th>\n",
              "      <td>Google Cybersecurity</td>\n",
              "      <td>0.157040</td>\n",
              "      <td>0.052174</td>\n",
              "      <td>0.044816</td>\n",
              "      <td>1</td>\n",
              "    </tr>\n",
              "    <tr>\n",
              "      <th>2</th>\n",
              "      <td>Google Project Management:</td>\n",
              "      <td>0.486595</td>\n",
              "      <td>0.052174</td>\n",
              "      <td>0.065615</td>\n",
              "      <td>2</td>\n",
              "    </tr>\n",
              "    <tr>\n",
              "      <th>3</th>\n",
              "      <td>IBM Data Science</td>\n",
              "      <td>0.095255</td>\n",
              "      <td>-0.034783</td>\n",
              "      <td>0.238259</td>\n",
              "      <td>3</td>\n",
              "    </tr>\n",
              "    <tr>\n",
              "      <th>4</th>\n",
              "      <td>Google Digital Marketing &amp; E-commerce</td>\n",
              "      <td>0.194920</td>\n",
              "      <td>0.052174</td>\n",
              "      <td>0.037057</td>\n",
              "      <td>4</td>\n",
              "    </tr>\n",
              "  </tbody>\n",
              "</table>\n",
              "</div>"
            ],
            "text/plain": [
              "                                   title  n_enrolled_normalised  \\\n",
              "0                  Google Data Analytics               0.675067   \n",
              "1                   Google Cybersecurity               0.157040   \n",
              "2             Google Project Management:               0.486595   \n",
              "3                       IBM Data Science               0.095255   \n",
              "4  Google Digital Marketing & E-commerce               0.194920   \n",
              "\n",
              "   ratings_normalised  ratio(n_rating,n_enrolled)  id  \n",
              "0            0.052174                    0.064525   0  \n",
              "1            0.052174                    0.044816   1  \n",
              "2            0.052174                    0.065615   2  \n",
              "3           -0.034783                    0.238259   3  \n",
              "4            0.052174                    0.037057   4  "
            ]
          },
          "execution_count": 435,
          "metadata": {},
          "output_type": "execute_result"
        }
      ],
      "source": [
        "df__trial.head()"
      ]
    },
    {
      "cell_type": "code",
      "execution_count": 436,
      "id": "a418e6be",
      "metadata": {},
      "outputs": [
        {
          "data": {
            "text/plain": [
              "0.0491117748781638"
            ]
          },
          "execution_count": 436,
          "metadata": {},
          "output_type": "execute_result"
        }
      ],
      "source": [
        "df__trial['ratio(n_rating,n_enrolled)'][97]"
      ]
    },
    {
      "cell_type": "code",
      "execution_count": 437,
      "metadata": {},
      "outputs": [
        {
          "data": {
            "text/plain": [
              "0.0491117748781638"
            ]
          },
          "execution_count": 437,
          "metadata": {},
          "output_type": "execute_result"
        }
      ],
      "source": [
        "id2_chi_ratio[97]"
      ]
    },
    {
      "cell_type": "code",
      "execution_count": 438,
      "id": "74f9d906",
      "metadata": {},
      "outputs": [],
      "source": [
        "for _, n_enrolled_normalised, ratings_normalised, chi_ratio, id in df__trial.itertuples(index=False):\n",
        "        id2_normalised_n_enrolled[id] = n_enrolled_normalised\n",
        "        id2normalised_rating[id] = ratings_normalised\n",
        "        id2_chi_ratio[id] = chi_ratio"
      ]
    },
    {
      "cell_type": "code",
      "execution_count": 439,
      "id": "99188e16",
      "metadata": {},
      "outputs": [
        {
          "data": {
            "text/plain": [
              "0.0491117748781638"
            ]
          },
          "execution_count": 439,
          "metadata": {},
          "output_type": "execute_result"
        }
      ],
      "source": [
        "id2_chi_ratio[97]"
      ]
    },
    {
      "cell_type": "code",
      "execution_count": 441,
      "id": "b1713a5b",
      "metadata": {},
      "outputs": [
        {
          "data": {
            "text/plain": [
              "Index(['Title', 'Organization', 'Level', 'Ratings', 'Decription', 'Skills',\n",
              "       'Completion Time', 'Instructor', 'Cost', 'Link', 'short summary'],\n",
              "      dtype='object')"
            ]
          },
          "execution_count": 441,
          "metadata": {},
          "output_type": "execute_result"
        }
      ],
      "source": [
        "df_main.columns"
      ]
    },
    {
      "cell_type": "code",
      "execution_count": 442,
      "id": "6fd17518",
      "metadata": {},
      "outputs": [],
      "source": [
        "df_main = pd.read_csv(\"comparison_ouput_short_desc_bart_large.csv\")\n",
        "df_main__mod = df_main[['Title','Organization','short summary', 'Skills','Completion Time', 'Instructor', 'Ratings','Cost','Level','Link']]\n"
      ]
    },
    {
      "cell_type": "code",
      "execution_count": 443,
      "id": "6e0d4054",
      "metadata": {},
      "outputs": [],
      "source": [
        "df_main__mod.to_csv(\"comparison_ouput_short_desc_bart_large_modified.csv\",index=False)"
      ]
    },
    {
      "cell_type": "code",
      "execution_count": null,
      "id": "4094d51c",
      "metadata": {},
      "outputs": [],
      "source": []
    }
  ],
  "metadata": {
    "colab": {
      "provenance": []
    },
    "kernelspec": {
      "display_name": "Python 3 (ipykernel)",
      "language": "python",
      "name": "python3"
    },
    "language_info": {
      "codemirror_mode": {
        "name": "ipython",
        "version": 3
      },
      "file_extension": ".py",
      "mimetype": "text/x-python",
      "name": "python",
      "nbconvert_exporter": "python",
      "pygments_lexer": "ipython3",
      "version": "3.11.5"
    }
  },
  "nbformat": 4,
  "nbformat_minor": 5
}
